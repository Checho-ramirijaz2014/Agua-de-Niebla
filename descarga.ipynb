{
 "cells": [
  {
   "cell_type": "markdown",
   "id": "8d06d28d-7c1c-4ee1-b08a-e6d8bea23ab5",
   "metadata": {},
   "source": [
    "# Descarga de imagenes"
   ]
  },
  {
   "cell_type": "code",
   "execution_count": 1,
   "id": "f61b9e3e-4259-423c-8fc2-248afdaa43d6",
   "metadata": {},
   "outputs": [],
   "source": [
    "import ee\n",
    "import geemap\n",
    "from fastkml import kml\n",
    "from fiona.drvsupport import supported_drivers\n",
    "import fiona\n",
    "import folium\n",
    "import geojson\n",
    "import geopandas as gpd\n",
    "import os\n",
    "#from geetools import batch\n",
    "import pandas as pd\n",
    "import matplotlib.pyplot as plt\n",
    "from shapely.geometry import shape\n",
    "from geojson import Polygon\n",
    "import requests\n",
    "import zipfile"
   ]
  },
  {
   "cell_type": "markdown",
   "id": "0dd0094e-283b-4f02-a23b-4c2cd8cce718",
   "metadata": {},
   "source": [
    "## Geometria"
   ]
  },
  {
   "cell_type": "code",
   "execution_count": 2,
   "id": "b97f4216-0682-487d-861b-c11dca24fe4b",
   "metadata": {},
   "outputs": [
    {
     "data": {
      "text/html": [
       "\n",
       "            <style>\n",
       "                .geemap-dark {\n",
       "                    --jp-widgets-color: white;\n",
       "                    --jp-widgets-label-color: white;\n",
       "                    --jp-ui-font-color1: white;\n",
       "                    --jp-layout-color2: #454545;\n",
       "                    background-color: #383838;\n",
       "                }\n",
       "                    \n",
       "                .geemap-dark .jupyter-button {\n",
       "                    --jp-layout-color3: #383838;\n",
       "                }\n",
       "                \n",
       "                .geemap-colab {\n",
       "                    background-color: var(--colab-primary-surface-color, white);\n",
       "                }\n",
       "                    \n",
       "                .geemap-colab .jupyter-button {\n",
       "                    --jp-layout-color3: var(--colab-primary-surface-color, white);\n",
       "                }\n",
       "            </style>\n",
       "            "
      ],
      "text/plain": [
       "<IPython.core.display.HTML object>"
      ]
     },
     "metadata": {},
     "output_type": "display_data"
    }
   ],
   "source": [
    "#procesamiento de la geometria\n",
    "supported_drivers['KML'] = 'rw'\n",
    "\n",
    "geometriajson = gpd.read_file(os.path.join(\"datos\",\"Aestudio84.kml\"), driver=\"kml\")\n",
    "geometria_geojson = os.path.join(\"datos\", \"geometria.geojson\")\n",
    "\n",
    "geometriajson.to_file(geometria_geojson, driver=\"GeoJSON\")\n",
    "\n",
    "#geometria = [fila[:2] for fila in list(geometriajson.exterior[0].coords)]\n",
    "#geometria"
   ]
  },
  {
   "cell_type": "code",
   "execution_count": 3,
   "id": "78423b8d-8f93-448e-a971-290b06f227be",
   "metadata": {},
   "outputs": [
    {
     "data": {
      "text/html": [
       "\n",
       "            <style>\n",
       "                .geemap-dark {\n",
       "                    --jp-widgets-color: white;\n",
       "                    --jp-widgets-label-color: white;\n",
       "                    --jp-ui-font-color1: white;\n",
       "                    --jp-layout-color2: #454545;\n",
       "                    background-color: #383838;\n",
       "                }\n",
       "                    \n",
       "                .geemap-dark .jupyter-button {\n",
       "                    --jp-layout-color3: #383838;\n",
       "                }\n",
       "                \n",
       "                .geemap-colab {\n",
       "                    background-color: var(--colab-primary-surface-color, white);\n",
       "                }\n",
       "                    \n",
       "                .geemap-colab .jupyter-button {\n",
       "                    --jp-layout-color3: var(--colab-primary-surface-color, white);\n",
       "                }\n",
       "            </style>\n",
       "            "
      ],
      "text/plain": [
       "<IPython.core.display.HTML object>"
      ]
     },
     "metadata": {},
     "output_type": "display_data"
    }
   ],
   "source": [
    "with open(geometria_geojson) as file:\n",
    "    gj = geojson.load(file)"
   ]
  },
  {
   "cell_type": "code",
   "execution_count": 4,
   "id": "114888d7-f3ae-4f29-8571-6d91b2371e82",
   "metadata": {},
   "outputs": [
    {
     "data": {
      "text/html": [
       "\n",
       "            <style>\n",
       "                .geemap-dark {\n",
       "                    --jp-widgets-color: white;\n",
       "                    --jp-widgets-label-color: white;\n",
       "                    --jp-ui-font-color1: white;\n",
       "                    --jp-layout-color2: #454545;\n",
       "                    background-color: #383838;\n",
       "                }\n",
       "                    \n",
       "                .geemap-dark .jupyter-button {\n",
       "                    --jp-layout-color3: #383838;\n",
       "                }\n",
       "                \n",
       "                .geemap-colab {\n",
       "                    background-color: var(--colab-primary-surface-color, white);\n",
       "                }\n",
       "                    \n",
       "                .geemap-colab .jupyter-button {\n",
       "                    --jp-layout-color3: var(--colab-primary-surface-color, white);\n",
       "                }\n",
       "            </style>\n",
       "            "
      ],
      "text/plain": [
       "<IPython.core.display.HTML object>"
      ]
     },
     "metadata": {},
     "output_type": "display_data"
    },
    {
     "data": {
      "text/plain": [
       "{\"crs\": {\"properties\": {\"name\": \"urn:ogc:def:crs:OGC:1.3:CRS84\"}, \"type\": \"name\"}, \"features\": [{\"geometry\": {\"coordinates\": [[[-75.000001, -36.000004, 0.0], [-66.999999, -36.0, 0.0], [-66.999999, -17.0, 0.0], [-75.000026, -16.999993, 0.0], [-75.000001, -36.000004, 0.0]]], \"type\": \"Polygon\"}, \"properties\": {\"Description\": \"\", \"Name\": \"poligono\"}, \"type\": \"Feature\"}], \"type\": \"FeatureCollection\"}"
      ]
     },
     "execution_count": 4,
     "metadata": {},
     "output_type": "execute_result"
    }
   ],
   "source": [
    "gj"
   ]
  },
  {
   "cell_type": "code",
   "execution_count": 5,
   "id": "cd0eb23b-5552-4f08-a815-fad182c382cd",
   "metadata": {},
   "outputs": [
    {
     "data": {
      "text/html": [
       "\n",
       "            <style>\n",
       "                .geemap-dark {\n",
       "                    --jp-widgets-color: white;\n",
       "                    --jp-widgets-label-color: white;\n",
       "                    --jp-ui-font-color1: white;\n",
       "                    --jp-layout-color2: #454545;\n",
       "                    background-color: #383838;\n",
       "                }\n",
       "                    \n",
       "                .geemap-dark .jupyter-button {\n",
       "                    --jp-layout-color3: #383838;\n",
       "                }\n",
       "                \n",
       "                .geemap-colab {\n",
       "                    background-color: var(--colab-primary-surface-color, white);\n",
       "                }\n",
       "                    \n",
       "                .geemap-colab .jupyter-button {\n",
       "                    --jp-layout-color3: var(--colab-primary-surface-color, white);\n",
       "                }\n",
       "            </style>\n",
       "            "
      ],
      "text/plain": [
       "<IPython.core.display.HTML object>"
      ]
     },
     "metadata": {},
     "output_type": "display_data"
    }
   ],
   "source": [
    "#codigo para convertir el kmz a kml\n",
    "#en caso que no este presente\n",
    "def conversion_kmz():\n",
    "    path_kmz = os.path.join(\"datos\", \"Aestudio84.kmz\")\n",
    "    kml_doc = \"doc.kml\"\n",
    "    with zipfile.ZipFile(path_kmz, 'r') as kmz:\n",
    "        if kml_doc in kmz.namelist():\n",
    "            kml_content = kmz.read(kml_doc).decode('utf-8')\n",
    "    \n",
    "            with open(\"Aestudio84.kml\", 'w', encoding='utf-8') as kml_file:\n",
    "                kml_file.write(kml_content)\n",
    "    \n",
    "            print(\"Archivo kml guardado\")\n",
    "        else:\n",
    "            print(\"no se encontro el kml\")\n",
    "\n",
    "#conversion_kmz()"
   ]
  },
  {
   "cell_type": "code",
   "execution_count": 6,
   "id": "8a5568a6-bb5e-4f22-921a-7ec5f42ef98d",
   "metadata": {},
   "outputs": [
    {
     "data": {
      "text/html": [
       "\n",
       "            <style>\n",
       "                .geemap-dark {\n",
       "                    --jp-widgets-color: white;\n",
       "                    --jp-widgets-label-color: white;\n",
       "                    --jp-ui-font-color1: white;\n",
       "                    --jp-layout-color2: #454545;\n",
       "                    background-color: #383838;\n",
       "                }\n",
       "                    \n",
       "                .geemap-dark .jupyter-button {\n",
       "                    --jp-layout-color3: #383838;\n",
       "                }\n",
       "                \n",
       "                .geemap-colab {\n",
       "                    background-color: var(--colab-primary-surface-color, white);\n",
       "                }\n",
       "                    \n",
       "                .geemap-colab .jupyter-button {\n",
       "                    --jp-layout-color3: var(--colab-primary-surface-color, white);\n",
       "                }\n",
       "            </style>\n",
       "            "
      ],
      "text/plain": [
       "<IPython.core.display.HTML object>"
      ]
     },
     "metadata": {},
     "output_type": "display_data"
    }
   ],
   "source": [
    "#Hardcodeo de datos\n",
    "#fecha: cada dia del 2022\n",
    "##observacion: probar con un dia\n",
    "inicio = \"2022-01-01\"\n",
    "fin = '2022-01-02'"
   ]
  },
  {
   "cell_type": "code",
   "execution_count": 7,
   "id": "adb307e3-421e-4ca6-b08b-0af54fe6bc93",
   "metadata": {},
   "outputs": [
    {
     "data": {
      "text/html": [
       "\n",
       "            <style>\n",
       "                .geemap-dark {\n",
       "                    --jp-widgets-color: white;\n",
       "                    --jp-widgets-label-color: white;\n",
       "                    --jp-ui-font-color1: white;\n",
       "                    --jp-layout-color2: #454545;\n",
       "                    background-color: #383838;\n",
       "                }\n",
       "                    \n",
       "                .geemap-dark .jupyter-button {\n",
       "                    --jp-layout-color3: #383838;\n",
       "                }\n",
       "                \n",
       "                .geemap-colab {\n",
       "                    background-color: var(--colab-primary-surface-color, white);\n",
       "                }\n",
       "                    \n",
       "                .geemap-colab .jupyter-button {\n",
       "                    --jp-layout-color3: var(--colab-primary-surface-color, white);\n",
       "                }\n",
       "            </style>\n",
       "            "
      ],
      "text/plain": [
       "<IPython.core.display.HTML object>"
      ]
     },
     "metadata": {},
     "output_type": "display_data"
    },
    {
     "data": {
      "text/plain": [
       "[[-75.000001, -36.000004, 0.0],\n",
       " [-66.999999, -36.0, 0.0],\n",
       " [-66.999999, -17.0, 0.0],\n",
       " [-75.000026, -16.999993, 0.0],\n",
       " [-75.000001, -36.000004, 0.0]]"
      ]
     },
     "execution_count": 7,
     "metadata": {},
     "output_type": "execute_result"
    }
   ],
   "source": [
    "prueba_gjson = gj[\"features\"][0][\"geometry\"][\"coordinates\"][0]\n",
    "prueba_gjson"
   ]
  },
  {
   "cell_type": "code",
   "execution_count": 8,
   "id": "d5e57a71-0549-4706-ac39-39c8e85f60eb",
   "metadata": {},
   "outputs": [
    {
     "data": {
      "text/html": [
       "\n",
       "            <style>\n",
       "                .geemap-dark {\n",
       "                    --jp-widgets-color: white;\n",
       "                    --jp-widgets-label-color: white;\n",
       "                    --jp-ui-font-color1: white;\n",
       "                    --jp-layout-color2: #454545;\n",
       "                    background-color: #383838;\n",
       "                }\n",
       "                    \n",
       "                .geemap-dark .jupyter-button {\n",
       "                    --jp-layout-color3: #383838;\n",
       "                }\n",
       "                \n",
       "                .geemap-colab {\n",
       "                    background-color: var(--colab-primary-surface-color, white);\n",
       "                }\n",
       "                    \n",
       "                .geemap-colab .jupyter-button {\n",
       "                    --jp-layout-color3: var(--colab-primary-surface-color, white);\n",
       "                }\n",
       "            </style>\n",
       "            "
      ],
      "text/plain": [
       "<IPython.core.display.HTML object>"
      ]
     },
     "metadata": {},
     "output_type": "display_data"
    },
    {
     "data": {
      "text/plain": [
       "[[-75.000001, -36.000004],\n",
       " [-66.999999, -36.0],\n",
       " [-66.999999, -17.0],\n",
       " [-75.000026, -16.999993],\n",
       " [-75.000001, -36.000004]]"
      ]
     },
     "execution_count": 8,
     "metadata": {},
     "output_type": "execute_result"
    }
   ],
   "source": [
    "geometria_rounded = [[coord[0], coord[1]] for coord in prueba_gjson]\n",
    "geometria_rounded"
   ]
  },
  {
   "cell_type": "markdown",
   "id": "3ee43939-297d-4ba6-bea7-869080ba0944",
   "metadata": {},
   "source": [
    "## carga"
   ]
  },
  {
   "cell_type": "code",
   "execution_count": 9,
   "id": "47b0000e-4afc-4de6-abc0-448ea96f526c",
   "metadata": {},
   "outputs": [
    {
     "data": {
      "text/html": [
       "\n",
       "            <style>\n",
       "                .geemap-dark {\n",
       "                    --jp-widgets-color: white;\n",
       "                    --jp-widgets-label-color: white;\n",
       "                    --jp-ui-font-color1: white;\n",
       "                    --jp-layout-color2: #454545;\n",
       "                    background-color: #383838;\n",
       "                }\n",
       "                    \n",
       "                .geemap-dark .jupyter-button {\n",
       "                    --jp-layout-color3: #383838;\n",
       "                }\n",
       "                \n",
       "                .geemap-colab {\n",
       "                    background-color: var(--colab-primary-surface-color, white);\n",
       "                }\n",
       "                    \n",
       "                .geemap-colab .jupyter-button {\n",
       "                    --jp-layout-color3: var(--colab-primary-surface-color, white);\n",
       "                }\n",
       "            </style>\n",
       "            "
      ],
      "text/plain": [
       "<IPython.core.display.HTML object>"
      ]
     },
     "metadata": {},
     "output_type": "display_data"
    },
    {
     "name": "stdout",
     "output_type": "stream",
     "text": [
      "carga de imagenes hecha\n",
      "primer layer añadido\n",
      "primer layer añadido\n"
     ]
    },
    {
     "data": {
      "application/vnd.jupyter.widget-view+json": {
       "model_id": "22262f67425f4b0db0b26973fbb409f3",
       "version_major": 2,
       "version_minor": 0
      },
      "text/plain": [
       "Map(center=[0, 0], controls=(WidgetControl(options=['position', 'transparent_bg'], widget=SearchDataGUI(childr…"
      ]
     },
     "execution_count": 9,
     "metadata": {},
     "output_type": "execute_result"
    }
   ],
   "source": [
    "ee.Initialize(project=\"sergio-ramrez-agua-de-niebla\")\n",
    "preferencias = {\"zoom\": 22, \"basemap\": \"Esri.WorldImagery\",\n",
    "                #\"data_ctrl\":False, \"toolbar_ctrl\":False, \"draw_ctrl\":False\n",
    "}\n",
    "#\"center\": [-27.3666, -70.3322]\n",
    "map = geemap.Map(**preferencias)\n",
    "\n",
    "region = ee.Geometry.Polygon(geometria_rounded)\n",
    "#region = prueba_gjson\n",
    "goes = ee.ImageCollection(\"NOAA/GOES/16/MCMIPF\").filterBounds(region).filterDate(inicio, fin)\n",
    "print(\"carga de imagenes hecha\")\n",
    "\n",
    "\n",
    "vis = {\n",
    "    \"bands\": \"CMI_C04\",\n",
    "    \"min\": 0.0,\n",
    "    \"max\": 1.3,\n",
    "    \"gamma\": 0.1\n",
    "}\n",
    "\n",
    "map.centerObject(region)\n",
    "map.add_layer(region, {\"color\": 'FF0000'}, 'geodesic polygon')\n",
    "print(\"primer layer añadido\")\n",
    "map.add_layer(goes.first().select(\"CMI_C04\").clip(region), vis, \"Zona Agua de Niebla\")\n",
    "print(\"primer layer añadido\")\n",
    "map"
   ]
  },
  {
   "cell_type": "code",
   "execution_count": 12,
   "id": "3d8bd614-7dbd-48ff-995c-8d7595a28ac2",
   "metadata": {
    "editable": true,
    "slideshow": {
     "slide_type": ""
    },
    "tags": []
   },
   "outputs": [
    {
     "data": {
      "text/html": [
       "\n",
       "            <style>\n",
       "                .geemap-dark {\n",
       "                    --jp-widgets-color: white;\n",
       "                    --jp-widgets-label-color: white;\n",
       "                    --jp-ui-font-color1: white;\n",
       "                    --jp-layout-color2: #454545;\n",
       "                    background-color: #383838;\n",
       "                }\n",
       "                    \n",
       "                .geemap-dark .jupyter-button {\n",
       "                    --jp-layout-color3: #383838;\n",
       "                }\n",
       "                \n",
       "                .geemap-colab {\n",
       "                    background-color: var(--colab-primary-surface-color, white);\n",
       "                }\n",
       "                    \n",
       "                .geemap-colab .jupyter-button {\n",
       "                    --jp-layout-color3: var(--colab-primary-surface-color, white);\n",
       "                }\n",
       "            </style>\n",
       "            "
      ],
      "text/plain": [
       "<IPython.core.display.HTML object>"
      ]
     },
     "metadata": {},
     "output_type": "display_data"
    },
    {
     "name": "stdout",
     "output_type": "stream",
     "text": [
      "Total number of images: 144\n",
      "\n",
      "Downloading 1/144: 2022001000020500000.tif\n"
     ]
    },
    {
     "ename": "Exception",
     "evalue": "Error downloading image collection: This image is unbounded, you need to specify a region; or a crs, crs_transform and shape.",
     "output_type": "error",
     "traceback": [
      "\u001b[0;31m---------------------------------------------------------------------------\u001b[0m",
      "\u001b[0;31mValueError\u001b[0m                                Traceback (most recent call last)",
      "File \u001b[0;32m~/miniforge3/envs/satelites/lib/python3.12/site-packages/geemap/common.py:13235\u001b[0m, in \u001b[0;36mdownload_ee_image_collection\u001b[0;34m(collection, out_dir, filenames, region, crs, crs_transform, scale, resampling, dtype, overwrite, num_threads, max_tile_size, max_tile_dim, shape, scale_offset, unmask_value, **kwargs)\u001b[0m\n\u001b[1;32m  13234\u001b[0m         \u001b[38;5;28mprint\u001b[39m(\u001b[38;5;124mf\u001b[39m\u001b[38;5;124m\"\u001b[39m\u001b[38;5;124mDownloading \u001b[39m\u001b[38;5;132;01m{\u001b[39;00mi\u001b[38;5;250m \u001b[39m\u001b[38;5;241m+\u001b[39m\u001b[38;5;250m \u001b[39m\u001b[38;5;241m1\u001b[39m\u001b[38;5;132;01m}\u001b[39;00m\u001b[38;5;124m/\u001b[39m\u001b[38;5;132;01m{\u001b[39;00mcount\u001b[38;5;132;01m}\u001b[39;00m\u001b[38;5;124m: \u001b[39m\u001b[38;5;132;01m{\u001b[39;00mname\u001b[38;5;132;01m}\u001b[39;00m\u001b[38;5;124m\"\u001b[39m)\n\u001b[0;32m> 13235\u001b[0m         \u001b[43mdownload_ee_image\u001b[49m\u001b[43m(\u001b[49m\n\u001b[1;32m  13236\u001b[0m \u001b[43m            \u001b[49m\u001b[43mimage\u001b[49m\u001b[43m,\u001b[49m\n\u001b[1;32m  13237\u001b[0m \u001b[43m            \u001b[49m\u001b[43mfilename\u001b[49m\u001b[43m,\u001b[49m\n\u001b[1;32m  13238\u001b[0m \u001b[43m            \u001b[49m\u001b[43mregion\u001b[49m\u001b[43m,\u001b[49m\n\u001b[1;32m  13239\u001b[0m \u001b[43m            \u001b[49m\u001b[43mcrs\u001b[49m\u001b[43m,\u001b[49m\n\u001b[1;32m  13240\u001b[0m \u001b[43m            \u001b[49m\u001b[43mcrs_transform\u001b[49m\u001b[43m,\u001b[49m\n\u001b[1;32m  13241\u001b[0m \u001b[43m            \u001b[49m\u001b[43mscale\u001b[49m\u001b[43m,\u001b[49m\n\u001b[1;32m  13242\u001b[0m \u001b[43m            \u001b[49m\u001b[43mresampling\u001b[49m\u001b[43m,\u001b[49m\n\u001b[1;32m  13243\u001b[0m \u001b[43m            \u001b[49m\u001b[43mdtype\u001b[49m\u001b[43m,\u001b[49m\n\u001b[1;32m  13244\u001b[0m \u001b[43m            \u001b[49m\u001b[43moverwrite\u001b[49m\u001b[43m,\u001b[49m\n\u001b[1;32m  13245\u001b[0m \u001b[43m            \u001b[49m\u001b[43mnum_threads\u001b[49m\u001b[43m,\u001b[49m\n\u001b[1;32m  13246\u001b[0m \u001b[43m            \u001b[49m\u001b[43mmax_tile_size\u001b[49m\u001b[43m,\u001b[49m\n\u001b[1;32m  13247\u001b[0m \u001b[43m            \u001b[49m\u001b[43mmax_tile_dim\u001b[49m\u001b[43m,\u001b[49m\n\u001b[1;32m  13248\u001b[0m \u001b[43m            \u001b[49m\u001b[43mshape\u001b[49m\u001b[43m,\u001b[49m\n\u001b[1;32m  13249\u001b[0m \u001b[43m            \u001b[49m\u001b[43mscale_offset\u001b[49m\u001b[43m,\u001b[49m\n\u001b[1;32m  13250\u001b[0m \u001b[43m            \u001b[49m\u001b[43munmask_value\u001b[49m\u001b[43m,\u001b[49m\n\u001b[1;32m  13251\u001b[0m \u001b[43m            \u001b[49m\u001b[38;5;241;43m*\u001b[39;49m\u001b[38;5;241;43m*\u001b[39;49m\u001b[43mkwargs\u001b[49m\u001b[43m,\u001b[49m\n\u001b[1;32m  13252\u001b[0m \u001b[43m        \u001b[49m\u001b[43m)\u001b[49m\n\u001b[1;32m  13254\u001b[0m \u001b[38;5;28;01mexcept\u001b[39;00m \u001b[38;5;167;01mException\u001b[39;00m \u001b[38;5;28;01mas\u001b[39;00m e:\n",
      "File \u001b[0;32m~/miniforge3/envs/satelites/lib/python3.12/site-packages/geemap/common.py:12925\u001b[0m, in \u001b[0;36mdownload_ee_image\u001b[0;34m(image, filename, region, crs, crs_transform, scale, resampling, dtype, overwrite, num_threads, max_tile_size, max_tile_dim, shape, scale_offset, unmask_value, **kwargs)\u001b[0m\n\u001b[1;32m  12924\u001b[0m img \u001b[38;5;241m=\u001b[39m gd\u001b[38;5;241m.\u001b[39mdownload\u001b[38;5;241m.\u001b[39mBaseImage(image)\n\u001b[0;32m> 12925\u001b[0m \u001b[43mimg\u001b[49m\u001b[38;5;241;43m.\u001b[39;49m\u001b[43mdownload\u001b[49m\u001b[43m(\u001b[49m\u001b[43mfilename\u001b[49m\u001b[43m,\u001b[49m\u001b[43m \u001b[49m\u001b[43moverwrite\u001b[49m\u001b[38;5;241;43m=\u001b[39;49m\u001b[43moverwrite\u001b[49m\u001b[43m,\u001b[49m\u001b[43m \u001b[49m\u001b[43mnum_threads\u001b[49m\u001b[38;5;241;43m=\u001b[39;49m\u001b[43mnum_threads\u001b[49m\u001b[43m,\u001b[49m\u001b[43m \u001b[49m\u001b[38;5;241;43m*\u001b[39;49m\u001b[38;5;241;43m*\u001b[39;49m\u001b[43mkwargs\u001b[49m\u001b[43m)\u001b[49m\n",
      "File \u001b[0;32m~/miniforge3/envs/satelites/lib/python3.12/site-packages/geedim/download.py:899\u001b[0m, in \u001b[0;36mBaseImage.download\u001b[0;34m(self, filename, overwrite, num_threads, max_tile_size, max_tile_dim, **kwargs)\u001b[0m\n\u001b[1;32m    898\u001b[0m \u001b[38;5;66;03m# prepare (resample, convert, reproject) the image for download\u001b[39;00m\n\u001b[0;32m--> 899\u001b[0m exp_image, profile \u001b[38;5;241m=\u001b[39m \u001b[38;5;28;43mself\u001b[39;49m\u001b[38;5;241;43m.\u001b[39;49m\u001b[43m_prepare_for_download\u001b[49m\u001b[43m(\u001b[49m\u001b[38;5;241;43m*\u001b[39;49m\u001b[38;5;241;43m*\u001b[39;49m\u001b[43mkwargs\u001b[49m\u001b[43m)\u001b[49m\n\u001b[1;32m    901\u001b[0m \u001b[38;5;66;03m# get the dimensions of an image tile that will satisfy GEE download limits\u001b[39;00m\n",
      "File \u001b[0;32m~/miniforge3/envs/satelites/lib/python3.12/site-packages/geedim/download.py:547\u001b[0m, in \u001b[0;36mBaseImage._prepare_for_download\u001b[0;34m(self, set_nodata, **kwargs)\u001b[0m\n\u001b[1;32m    546\u001b[0m \u001b[38;5;66;03m# resample, convert, clip and reproject image according to download params\u001b[39;00m\n\u001b[0;32m--> 547\u001b[0m exp_image \u001b[38;5;241m=\u001b[39m \u001b[38;5;28;43mself\u001b[39;49m\u001b[38;5;241;43m.\u001b[39;49m\u001b[43m_prepare_for_export\u001b[49m\u001b[43m(\u001b[49m\u001b[38;5;241;43m*\u001b[39;49m\u001b[38;5;241;43m*\u001b[39;49m\u001b[43mkwargs\u001b[49m\u001b[43m)\u001b[49m\n\u001b[1;32m    548\u001b[0m \u001b[38;5;66;03m# see float nodata workaround note in Tile.download(...)\u001b[39;00m\n",
      "File \u001b[0;32m~/miniforge3/envs/satelites/lib/python3.12/site-packages/geedim/download.py:453\u001b[0m, in \u001b[0;36mBaseImage._prepare_for_export\u001b[0;34m(self, crs, crs_transform, shape, region, scale, resampling, dtype, scale_offset, bands)\u001b[0m\n\u001b[1;32m    450\u001b[0m \u001b[38;5;28;01mif\u001b[39;00m (\u001b[38;5;129;01mnot\u001b[39;00m region \u001b[38;5;129;01mand\u001b[39;00m (\u001b[38;5;129;01mnot\u001b[39;00m crs \u001b[38;5;129;01mor\u001b[39;00m \u001b[38;5;129;01mnot\u001b[39;00m crs_transform \u001b[38;5;129;01mor\u001b[39;00m \u001b[38;5;129;01mnot\u001b[39;00m shape)) \u001b[38;5;129;01mand\u001b[39;00m (\u001b[38;5;129;01mnot\u001b[39;00m \u001b[38;5;28mself\u001b[39m\u001b[38;5;241m.\u001b[39mbounded):\n\u001b[1;32m    451\u001b[0m     \u001b[38;5;66;03m# if the image has no footprint (i.e. it is 'unbounded'), either region; or crs, crs_transform and shape\u001b[39;00m\n\u001b[1;32m    452\u001b[0m     \u001b[38;5;66;03m# must be specified\u001b[39;00m\n\u001b[0;32m--> 453\u001b[0m     \u001b[38;5;28;01mraise\u001b[39;00m \u001b[38;5;167;01mValueError\u001b[39;00m(\n\u001b[1;32m    454\u001b[0m         \u001b[38;5;124mf\u001b[39m\u001b[38;5;124m'\u001b[39m\u001b[38;5;124mThis image is unbounded, you need to specify a region; or a crs, crs_transform and \u001b[39m\u001b[38;5;124m'\u001b[39m\n\u001b[1;32m    455\u001b[0m         \u001b[38;5;124mf\u001b[39m\u001b[38;5;124m'\u001b[39m\u001b[38;5;124mshape.\u001b[39m\u001b[38;5;124m'\u001b[39m\n\u001b[1;32m    456\u001b[0m     )\n\u001b[1;32m    458\u001b[0m \u001b[38;5;28;01mif\u001b[39;00m \u001b[38;5;129;01mnot\u001b[39;00m scale \u001b[38;5;129;01mand\u001b[39;00m \u001b[38;5;129;01mnot\u001b[39;00m shape \u001b[38;5;129;01mand\u001b[39;00m \u001b[38;5;28mself\u001b[39m\u001b[38;5;241m.\u001b[39mcrs \u001b[38;5;241m==\u001b[39m \u001b[38;5;124m'\u001b[39m\u001b[38;5;124mEPSG:4326\u001b[39m\u001b[38;5;124m'\u001b[39m:\n\u001b[1;32m    459\u001b[0m     \u001b[38;5;66;03m# If the image is in EPSG:4326, either scale (in meters); or shape must be specified.\u001b[39;00m\n\u001b[1;32m    460\u001b[0m     \u001b[38;5;66;03m# Note that ee.Image.prepare_for_export() expects a scale in meters, but if the image is EPSG:4326,\u001b[39;00m\n\u001b[1;32m    461\u001b[0m     \u001b[38;5;66;03m# the default scale is in degrees.\u001b[39;00m\n",
      "\u001b[0;31mValueError\u001b[0m: This image is unbounded, you need to specify a region; or a crs, crs_transform and shape.",
      "\nDuring handling of the above exception, another exception occurred:\n",
      "\u001b[0;31mException\u001b[0m                                 Traceback (most recent call last)",
      "\u001b[0;32m/tmp/ipykernel_3172/605719412.py\u001b[0m in \u001b[0;36m?\u001b[0;34m()\u001b[0m\n\u001b[1;32m      1\u001b[0m \u001b[0mout_dir\u001b[0m \u001b[0;34m=\u001b[0m \u001b[0mos\u001b[0m\u001b[0;34m.\u001b[0m\u001b[0mpath\u001b[0m\u001b[0;34m.\u001b[0m\u001b[0mexpanduser\u001b[0m\u001b[0;34m(\u001b[0m\u001b[0;34m\"~/Desktop/goes-images/\"\u001b[0m\u001b[0;34m)\u001b[0m\u001b[0;34m\u001b[0m\u001b[0;34m\u001b[0m\u001b[0m\n\u001b[1;32m      2\u001b[0m \u001b[0;34m\u001b[0m\u001b[0m\n\u001b[0;32m----> 3\u001b[0;31m \u001b[0mgeemap\u001b[0m\u001b[0;34m.\u001b[0m\u001b[0mdownload_ee_image_collection\u001b[0m\u001b[0;34m(\u001b[0m\u001b[0mgoes\u001b[0m\u001b[0;34m.\u001b[0m\u001b[0mfilterBounds\u001b[0m\u001b[0;34m(\u001b[0m\u001b[0mpunto_aleatorio\u001b[0m\u001b[0;34m)\u001b[0m\u001b[0;34m,\u001b[0m \u001b[0mout_dir\u001b[0m\u001b[0;34m=\u001b[0m\u001b[0mout_dir\u001b[0m\u001b[0;34m)\u001b[0m\u001b[0;34m\u001b[0m\u001b[0;34m\u001b[0m\u001b[0m\n\u001b[0m",
      "\u001b[0;32m~/miniforge3/envs/satelites/lib/python3.12/site-packages/geemap/common.py\u001b[0m in \u001b[0;36m?\u001b[0;34m(collection, out_dir, filenames, region, crs, crs_transform, scale, resampling, dtype, overwrite, num_threads, max_tile_size, max_tile_dim, shape, scale_offset, unmask_value, **kwargs)\u001b[0m\n\u001b[1;32m  13251\u001b[0m                 \u001b[0;34m**\u001b[0m\u001b[0mkwargs\u001b[0m\u001b[0;34m,\u001b[0m\u001b[0;34m\u001b[0m\u001b[0;34m\u001b[0m\u001b[0m\n\u001b[1;32m  13252\u001b[0m             \u001b[0;34m)\u001b[0m\u001b[0;34m\u001b[0m\u001b[0;34m\u001b[0m\u001b[0m\n\u001b[1;32m  13253\u001b[0m \u001b[0;34m\u001b[0m\u001b[0m\n\u001b[1;32m  13254\u001b[0m     \u001b[0;32mexcept\u001b[0m \u001b[0mException\u001b[0m \u001b[0;32mas\u001b[0m \u001b[0me\u001b[0m\u001b[0;34m:\u001b[0m\u001b[0;34m\u001b[0m\u001b[0;34m\u001b[0m\u001b[0m\n\u001b[0;32m> 13255\u001b[0;31m         \u001b[0;32mraise\u001b[0m \u001b[0mException\u001b[0m\u001b[0;34m(\u001b[0m\u001b[0;34mf\"\u001b[0m\u001b[0;34mError downloading image collection: \u001b[0m\u001b[0;34m{\u001b[0m\u001b[0me\u001b[0m\u001b[0;34m}\u001b[0m\u001b[0;34m\"\u001b[0m\u001b[0;34m)\u001b[0m\u001b[0;34m\u001b[0m\u001b[0;34m\u001b[0m\u001b[0m\n\u001b[0m",
      "\u001b[0;31mException\u001b[0m: Error downloading image collection: This image is unbounded, you need to specify a region; or a crs, crs_transform and shape."
     ]
    }
   ],
   "source": [
    "out_dir = os.path.expanduser(\"~/Desktop/goes-images/\")\n",
    "\n",
    "geemap.download_ee_image_collection(goes.filterBounds(punto_aleatorio), out_dir=out_dir)"
   ]
  },
  {
   "cell_type": "code",
   "execution_count": 11,
   "id": "baaba41e-e962-438a-9845-f13b627a1c8e",
   "metadata": {},
   "outputs": [
    {
     "data": {
      "text/html": [
       "\n",
       "            <style>\n",
       "                .geemap-dark {\n",
       "                    --jp-widgets-color: white;\n",
       "                    --jp-widgets-label-color: white;\n",
       "                    --jp-ui-font-color1: white;\n",
       "                    --jp-layout-color2: #454545;\n",
       "                    background-color: #383838;\n",
       "                }\n",
       "                    \n",
       "                .geemap-dark .jupyter-button {\n",
       "                    --jp-layout-color3: #383838;\n",
       "                }\n",
       "                \n",
       "                .geemap-colab {\n",
       "                    background-color: var(--colab-primary-surface-color, white);\n",
       "                }\n",
       "                    \n",
       "                .geemap-colab .jupyter-button {\n",
       "                    --jp-layout-color3: var(--colab-primary-surface-color, white);\n",
       "                }\n",
       "            </style>\n",
       "            "
      ],
      "text/plain": [
       "<IPython.core.display.HTML object>"
      ]
     },
     "metadata": {},
     "output_type": "display_data"
    },
    {
     "name": "stdout",
     "output_type": "stream",
     "text": [
      "Total number of images: 144\n",
      "\n",
      "Downloading 1/144: 2022001000020500000.tif\n"
     ]
    },
    {
     "ename": "Exception",
     "evalue": "Error downloading image collection: This image is unbounded, you need to specify a region; or a crs, crs_transform and shape.",
     "output_type": "error",
     "traceback": [
      "\u001b[0;31m---------------------------------------------------------------------------\u001b[0m",
      "\u001b[0;31mValueError\u001b[0m                                Traceback (most recent call last)",
      "File \u001b[0;32m~/miniforge3/envs/satelites/lib/python3.12/site-packages/geemap/common.py:13235\u001b[0m, in \u001b[0;36mdownload_ee_image_collection\u001b[0;34m(collection, out_dir, filenames, region, crs, crs_transform, scale, resampling, dtype, overwrite, num_threads, max_tile_size, max_tile_dim, shape, scale_offset, unmask_value, **kwargs)\u001b[0m\n\u001b[1;32m  13234\u001b[0m         \u001b[38;5;28mprint\u001b[39m(\u001b[38;5;124mf\u001b[39m\u001b[38;5;124m\"\u001b[39m\u001b[38;5;124mDownloading \u001b[39m\u001b[38;5;132;01m{\u001b[39;00mi\u001b[38;5;250m \u001b[39m\u001b[38;5;241m+\u001b[39m\u001b[38;5;250m \u001b[39m\u001b[38;5;241m1\u001b[39m\u001b[38;5;132;01m}\u001b[39;00m\u001b[38;5;124m/\u001b[39m\u001b[38;5;132;01m{\u001b[39;00mcount\u001b[38;5;132;01m}\u001b[39;00m\u001b[38;5;124m: \u001b[39m\u001b[38;5;132;01m{\u001b[39;00mname\u001b[38;5;132;01m}\u001b[39;00m\u001b[38;5;124m\"\u001b[39m)\n\u001b[0;32m> 13235\u001b[0m         \u001b[43mdownload_ee_image\u001b[49m\u001b[43m(\u001b[49m\n\u001b[1;32m  13236\u001b[0m \u001b[43m            \u001b[49m\u001b[43mimage\u001b[49m\u001b[43m,\u001b[49m\n\u001b[1;32m  13237\u001b[0m \u001b[43m            \u001b[49m\u001b[43mfilename\u001b[49m\u001b[43m,\u001b[49m\n\u001b[1;32m  13238\u001b[0m \u001b[43m            \u001b[49m\u001b[43mregion\u001b[49m\u001b[43m,\u001b[49m\n\u001b[1;32m  13239\u001b[0m \u001b[43m            \u001b[49m\u001b[43mcrs\u001b[49m\u001b[43m,\u001b[49m\n\u001b[1;32m  13240\u001b[0m \u001b[43m            \u001b[49m\u001b[43mcrs_transform\u001b[49m\u001b[43m,\u001b[49m\n\u001b[1;32m  13241\u001b[0m \u001b[43m            \u001b[49m\u001b[43mscale\u001b[49m\u001b[43m,\u001b[49m\n\u001b[1;32m  13242\u001b[0m \u001b[43m            \u001b[49m\u001b[43mresampling\u001b[49m\u001b[43m,\u001b[49m\n\u001b[1;32m  13243\u001b[0m \u001b[43m            \u001b[49m\u001b[43mdtype\u001b[49m\u001b[43m,\u001b[49m\n\u001b[1;32m  13244\u001b[0m \u001b[43m            \u001b[49m\u001b[43moverwrite\u001b[49m\u001b[43m,\u001b[49m\n\u001b[1;32m  13245\u001b[0m \u001b[43m            \u001b[49m\u001b[43mnum_threads\u001b[49m\u001b[43m,\u001b[49m\n\u001b[1;32m  13246\u001b[0m \u001b[43m            \u001b[49m\u001b[43mmax_tile_size\u001b[49m\u001b[43m,\u001b[49m\n\u001b[1;32m  13247\u001b[0m \u001b[43m            \u001b[49m\u001b[43mmax_tile_dim\u001b[49m\u001b[43m,\u001b[49m\n\u001b[1;32m  13248\u001b[0m \u001b[43m            \u001b[49m\u001b[43mshape\u001b[49m\u001b[43m,\u001b[49m\n\u001b[1;32m  13249\u001b[0m \u001b[43m            \u001b[49m\u001b[43mscale_offset\u001b[49m\u001b[43m,\u001b[49m\n\u001b[1;32m  13250\u001b[0m \u001b[43m            \u001b[49m\u001b[43munmask_value\u001b[49m\u001b[43m,\u001b[49m\n\u001b[1;32m  13251\u001b[0m \u001b[43m            \u001b[49m\u001b[38;5;241;43m*\u001b[39;49m\u001b[38;5;241;43m*\u001b[39;49m\u001b[43mkwargs\u001b[49m\u001b[43m,\u001b[49m\n\u001b[1;32m  13252\u001b[0m \u001b[43m        \u001b[49m\u001b[43m)\u001b[49m\n\u001b[1;32m  13254\u001b[0m \u001b[38;5;28;01mexcept\u001b[39;00m \u001b[38;5;167;01mException\u001b[39;00m \u001b[38;5;28;01mas\u001b[39;00m e:\n",
      "File \u001b[0;32m~/miniforge3/envs/satelites/lib/python3.12/site-packages/geemap/common.py:12925\u001b[0m, in \u001b[0;36mdownload_ee_image\u001b[0;34m(image, filename, region, crs, crs_transform, scale, resampling, dtype, overwrite, num_threads, max_tile_size, max_tile_dim, shape, scale_offset, unmask_value, **kwargs)\u001b[0m\n\u001b[1;32m  12924\u001b[0m img \u001b[38;5;241m=\u001b[39m gd\u001b[38;5;241m.\u001b[39mdownload\u001b[38;5;241m.\u001b[39mBaseImage(image)\n\u001b[0;32m> 12925\u001b[0m \u001b[43mimg\u001b[49m\u001b[38;5;241;43m.\u001b[39;49m\u001b[43mdownload\u001b[49m\u001b[43m(\u001b[49m\u001b[43mfilename\u001b[49m\u001b[43m,\u001b[49m\u001b[43m \u001b[49m\u001b[43moverwrite\u001b[49m\u001b[38;5;241;43m=\u001b[39;49m\u001b[43moverwrite\u001b[49m\u001b[43m,\u001b[49m\u001b[43m \u001b[49m\u001b[43mnum_threads\u001b[49m\u001b[38;5;241;43m=\u001b[39;49m\u001b[43mnum_threads\u001b[49m\u001b[43m,\u001b[49m\u001b[43m \u001b[49m\u001b[38;5;241;43m*\u001b[39;49m\u001b[38;5;241;43m*\u001b[39;49m\u001b[43mkwargs\u001b[49m\u001b[43m)\u001b[49m\n",
      "File \u001b[0;32m~/miniforge3/envs/satelites/lib/python3.12/site-packages/geedim/download.py:899\u001b[0m, in \u001b[0;36mBaseImage.download\u001b[0;34m(self, filename, overwrite, num_threads, max_tile_size, max_tile_dim, **kwargs)\u001b[0m\n\u001b[1;32m    898\u001b[0m \u001b[38;5;66;03m# prepare (resample, convert, reproject) the image for download\u001b[39;00m\n\u001b[0;32m--> 899\u001b[0m exp_image, profile \u001b[38;5;241m=\u001b[39m \u001b[38;5;28;43mself\u001b[39;49m\u001b[38;5;241;43m.\u001b[39;49m\u001b[43m_prepare_for_download\u001b[49m\u001b[43m(\u001b[49m\u001b[38;5;241;43m*\u001b[39;49m\u001b[38;5;241;43m*\u001b[39;49m\u001b[43mkwargs\u001b[49m\u001b[43m)\u001b[49m\n\u001b[1;32m    901\u001b[0m \u001b[38;5;66;03m# get the dimensions of an image tile that will satisfy GEE download limits\u001b[39;00m\n",
      "File \u001b[0;32m~/miniforge3/envs/satelites/lib/python3.12/site-packages/geedim/download.py:547\u001b[0m, in \u001b[0;36mBaseImage._prepare_for_download\u001b[0;34m(self, set_nodata, **kwargs)\u001b[0m\n\u001b[1;32m    546\u001b[0m \u001b[38;5;66;03m# resample, convert, clip and reproject image according to download params\u001b[39;00m\n\u001b[0;32m--> 547\u001b[0m exp_image \u001b[38;5;241m=\u001b[39m \u001b[38;5;28;43mself\u001b[39;49m\u001b[38;5;241;43m.\u001b[39;49m\u001b[43m_prepare_for_export\u001b[49m\u001b[43m(\u001b[49m\u001b[38;5;241;43m*\u001b[39;49m\u001b[38;5;241;43m*\u001b[39;49m\u001b[43mkwargs\u001b[49m\u001b[43m)\u001b[49m\n\u001b[1;32m    548\u001b[0m \u001b[38;5;66;03m# see float nodata workaround note in Tile.download(...)\u001b[39;00m\n",
      "File \u001b[0;32m~/miniforge3/envs/satelites/lib/python3.12/site-packages/geedim/download.py:453\u001b[0m, in \u001b[0;36mBaseImage._prepare_for_export\u001b[0;34m(self, crs, crs_transform, shape, region, scale, resampling, dtype, scale_offset, bands)\u001b[0m\n\u001b[1;32m    450\u001b[0m \u001b[38;5;28;01mif\u001b[39;00m (\u001b[38;5;129;01mnot\u001b[39;00m region \u001b[38;5;129;01mand\u001b[39;00m (\u001b[38;5;129;01mnot\u001b[39;00m crs \u001b[38;5;129;01mor\u001b[39;00m \u001b[38;5;129;01mnot\u001b[39;00m crs_transform \u001b[38;5;129;01mor\u001b[39;00m \u001b[38;5;129;01mnot\u001b[39;00m shape)) \u001b[38;5;129;01mand\u001b[39;00m (\u001b[38;5;129;01mnot\u001b[39;00m \u001b[38;5;28mself\u001b[39m\u001b[38;5;241m.\u001b[39mbounded):\n\u001b[1;32m    451\u001b[0m     \u001b[38;5;66;03m# if the image has no footprint (i.e. it is 'unbounded'), either region; or crs, crs_transform and shape\u001b[39;00m\n\u001b[1;32m    452\u001b[0m     \u001b[38;5;66;03m# must be specified\u001b[39;00m\n\u001b[0;32m--> 453\u001b[0m     \u001b[38;5;28;01mraise\u001b[39;00m \u001b[38;5;167;01mValueError\u001b[39;00m(\n\u001b[1;32m    454\u001b[0m         \u001b[38;5;124mf\u001b[39m\u001b[38;5;124m'\u001b[39m\u001b[38;5;124mThis image is unbounded, you need to specify a region; or a crs, crs_transform and \u001b[39m\u001b[38;5;124m'\u001b[39m\n\u001b[1;32m    455\u001b[0m         \u001b[38;5;124mf\u001b[39m\u001b[38;5;124m'\u001b[39m\u001b[38;5;124mshape.\u001b[39m\u001b[38;5;124m'\u001b[39m\n\u001b[1;32m    456\u001b[0m     )\n\u001b[1;32m    458\u001b[0m \u001b[38;5;28;01mif\u001b[39;00m \u001b[38;5;129;01mnot\u001b[39;00m scale \u001b[38;5;129;01mand\u001b[39;00m \u001b[38;5;129;01mnot\u001b[39;00m shape \u001b[38;5;129;01mand\u001b[39;00m \u001b[38;5;28mself\u001b[39m\u001b[38;5;241m.\u001b[39mcrs \u001b[38;5;241m==\u001b[39m \u001b[38;5;124m'\u001b[39m\u001b[38;5;124mEPSG:4326\u001b[39m\u001b[38;5;124m'\u001b[39m:\n\u001b[1;32m    459\u001b[0m     \u001b[38;5;66;03m# If the image is in EPSG:4326, either scale (in meters); or shape must be specified.\u001b[39;00m\n\u001b[1;32m    460\u001b[0m     \u001b[38;5;66;03m# Note that ee.Image.prepare_for_export() expects a scale in meters, but if the image is EPSG:4326,\u001b[39;00m\n\u001b[1;32m    461\u001b[0m     \u001b[38;5;66;03m# the default scale is in degrees.\u001b[39;00m\n",
      "\u001b[0;31mValueError\u001b[0m: This image is unbounded, you need to specify a region; or a crs, crs_transform and shape.",
      "\nDuring handling of the above exception, another exception occurred:\n",
      "\u001b[0;31mException\u001b[0m                                 Traceback (most recent call last)",
      "\u001b[0;32m/tmp/ipykernel_3172/3508486343.py\u001b[0m in \u001b[0;36m?\u001b[0;34m()\u001b[0m\n\u001b[1;32m      1\u001b[0m \u001b[0mpunto_aleatorio\u001b[0m \u001b[0;34m=\u001b[0m \u001b[0mee\u001b[0m\u001b[0;34m.\u001b[0m\u001b[0mGeometry\u001b[0m\u001b[0;34m.\u001b[0m\u001b[0mPoint\u001b[0m\u001b[0;34m(\u001b[0m\u001b[0;34m-\u001b[0m\u001b[0;36m20.8263328\u001b[0m\u001b[0;34m,\u001b[0m \u001b[0;34m-\u001b[0m\u001b[0;36m70.148117\u001b[0m\u001b[0;34m)\u001b[0m\u001b[0;34m.\u001b[0m\u001b[0mbuffer\u001b[0m\u001b[0;34m(\u001b[0m\u001b[0;36m1000\u001b[0m\u001b[0;34m)\u001b[0m\u001b[0;34m\u001b[0m\u001b[0;34m\u001b[0m\u001b[0m\n\u001b[1;32m      2\u001b[0m \u001b[0mroi\u001b[0m \u001b[0;34m=\u001b[0m \u001b[0mee\u001b[0m\u001b[0;34m.\u001b[0m\u001b[0mGeometry\u001b[0m\u001b[0;34m.\u001b[0m\u001b[0mRectangle\u001b[0m\u001b[0;34m(\u001b[0m\u001b[0;34m[\u001b[0m\u001b[0;34m-\u001b[0m\u001b[0;36m180\u001b[0m\u001b[0;34m,\u001b[0m \u001b[0;34m-\u001b[0m\u001b[0;36m90\u001b[0m\u001b[0;34m,\u001b[0m \u001b[0;36m180\u001b[0m\u001b[0;34m,\u001b[0m \u001b[0;36m90\u001b[0m\u001b[0;34m]\u001b[0m\u001b[0;34m)\u001b[0m\u001b[0;34m\u001b[0m\u001b[0;34m\u001b[0m\u001b[0m\n\u001b[1;32m      3\u001b[0m \u001b[0;34m\u001b[0m\u001b[0m\n\u001b[0;32m----> 4\u001b[0;31m geemap.download_ee_image_collection(goes.filterBounds(punto_aleatorio) \\\n\u001b[0m\u001b[1;32m      5\u001b[0m                          .select([\"CMI_C04\"]) \\\n\u001b[1;32m      6\u001b[0m                          \u001b[0;34m,\u001b[0m\u001b[0;34m\u001b[0m\u001b[0;34m\u001b[0m\u001b[0m\n\u001b[1;32m      7\u001b[0m                          \u001b[0mos\u001b[0m\u001b[0;34m.\u001b[0m\u001b[0mpath\u001b[0m\u001b[0;34m.\u001b[0m\u001b[0mexpanduser\u001b[0m\u001b[0;34m(\u001b[0m\u001b[0;34m\"~/Downloads/pruebas\"\u001b[0m\u001b[0;34m)\u001b[0m\u001b[0;34m,\u001b[0m\u001b[0;34m\u001b[0m\u001b[0;34m\u001b[0m\u001b[0m\n",
      "\u001b[0;32m~/miniforge3/envs/satelites/lib/python3.12/site-packages/geemap/common.py\u001b[0m in \u001b[0;36m?\u001b[0;34m(collection, out_dir, filenames, region, crs, crs_transform, scale, resampling, dtype, overwrite, num_threads, max_tile_size, max_tile_dim, shape, scale_offset, unmask_value, **kwargs)\u001b[0m\n\u001b[1;32m  13251\u001b[0m                 \u001b[0;34m**\u001b[0m\u001b[0mkwargs\u001b[0m\u001b[0;34m,\u001b[0m\u001b[0;34m\u001b[0m\u001b[0;34m\u001b[0m\u001b[0m\n\u001b[1;32m  13252\u001b[0m             \u001b[0;34m)\u001b[0m\u001b[0;34m\u001b[0m\u001b[0;34m\u001b[0m\u001b[0m\n\u001b[1;32m  13253\u001b[0m \u001b[0;34m\u001b[0m\u001b[0m\n\u001b[1;32m  13254\u001b[0m     \u001b[0;32mexcept\u001b[0m \u001b[0mException\u001b[0m \u001b[0;32mas\u001b[0m \u001b[0me\u001b[0m\u001b[0;34m:\u001b[0m\u001b[0;34m\u001b[0m\u001b[0;34m\u001b[0m\u001b[0m\n\u001b[0;32m> 13255\u001b[0;31m         \u001b[0;32mraise\u001b[0m \u001b[0mException\u001b[0m\u001b[0;34m(\u001b[0m\u001b[0;34mf\"\u001b[0m\u001b[0;34mError downloading image collection: \u001b[0m\u001b[0;34m{\u001b[0m\u001b[0me\u001b[0m\u001b[0;34m}\u001b[0m\u001b[0;34m\"\u001b[0m\u001b[0;34m)\u001b[0m\u001b[0;34m\u001b[0m\u001b[0;34m\u001b[0m\u001b[0m\n\u001b[0m",
      "\u001b[0;31mException\u001b[0m: Error downloading image collection: This image is unbounded, you need to specify a region; or a crs, crs_transform and shape."
     ]
    }
   ],
   "source": [
    "punto_aleatorio = ee.Geometry.Point(-20.8263328, -70.148117).buffer(1000)\n",
    "roi = ee.Geometry.Rectangle([-180, -90, 180, 90])\n",
    "\n",
    "geemap.download_ee_image_collection(goes.filterBounds(punto_aleatorio) \\\n",
    "                         .select([\"CMI_C04\"]) \\\n",
    "                         , \n",
    "                         os.path.expanduser(\"~/Downloads/pruebas\"), \n",
    "                         scale=10,crs=4326)"
   ]
  },
  {
   "cell_type": "code",
   "execution_count": 13,
   "id": "272f4f33-301f-4b73-97f1-c7912ea15c5b",
   "metadata": {},
   "outputs": [
    {
     "data": {
      "text/html": [
       "\n",
       "            <style>\n",
       "                .geemap-dark {\n",
       "                    --jp-widgets-color: white;\n",
       "                    --jp-widgets-label-color: white;\n",
       "                    --jp-ui-font-color1: white;\n",
       "                    --jp-layout-color2: #454545;\n",
       "                    background-color: #383838;\n",
       "                }\n",
       "                    \n",
       "                .geemap-dark .jupyter-button {\n",
       "                    --jp-layout-color3: #383838;\n",
       "                }\n",
       "                \n",
       "                .geemap-colab {\n",
       "                    background-color: var(--colab-primary-surface-color, white);\n",
       "                }\n",
       "                    \n",
       "                .geemap-colab .jupyter-button {\n",
       "                    --jp-layout-color3: var(--colab-primary-surface-color, white);\n",
       "                }\n",
       "            </style>\n",
       "            "
      ],
      "text/plain": [
       "<IPython.core.display.HTML object>"
      ]
     },
     "metadata": {},
     "output_type": "display_data"
    },
    {
     "name": "stdout",
     "output_type": "stream",
     "text": [
      "Total number of images: 9\n",
      "\n",
      "Downloading 1/9: m_4609915_sw_14_060_20180902_20181213.tif\n"
     ]
    },
    {
     "data": {
      "application/vnd.jupyter.widget-view+json": {
       "model_id": "eb9e1e9256644d5c88ab42530c07c286",
       "version_major": 2,
       "version_minor": 0
      },
      "text/plain": [
       "m_4609915_sw_14_060_20180902_20181213.tif: |                           | 0.00/1.49M (raw) [  0.0%] in 00:00 (e…"
      ]
     },
     "metadata": {},
     "output_type": "display_data"
    },
    {
     "name": "stdout",
     "output_type": "stream",
     "text": [
      "Downloading 2/9: m_4609915_sw_14_060_20190626.tif\n"
     ]
    },
    {
     "data": {
      "application/vnd.jupyter.widget-view+json": {
       "model_id": "9e1bdc972d884d85a12e714b450799f4",
       "version_major": 2,
       "version_minor": 0
      },
      "text/plain": [
       "m_4609915_sw_14_060_20190626.tif: |                                    | 0.00/1.53M (raw) [  0.0%] in 00:00 (e…"
      ]
     },
     "metadata": {},
     "output_type": "display_data"
    },
    {
     "name": "stdout",
     "output_type": "stream",
     "text": [
      "Downloading 3/9: m_4609915_sw_14_1_20090818.tif\n"
     ]
    },
    {
     "data": {
      "application/vnd.jupyter.widget-view+json": {
       "model_id": "b5b8f47e96464d179522892ab9c6442b",
       "version_major": 2,
       "version_minor": 0
      },
      "text/plain": [
       "m_4609915_sw_14_1_20090818.tif: |                                      | 0.00/1.72M (raw) [  0.0%] in 00:00 (e…"
      ]
     },
     "metadata": {},
     "output_type": "display_data"
    },
    {
     "name": "stdout",
     "output_type": "stream",
     "text": [
      "Downloading 4/9: m_4609915_sw_14_1_20100629.tif\n"
     ]
    },
    {
     "data": {
      "application/vnd.jupyter.widget-view+json": {
       "model_id": "428542f6bae248aaaaa541bffa70916b",
       "version_major": 2,
       "version_minor": 0
      },
      "text/plain": [
       "m_4609915_sw_14_1_20100629.tif: |                                      | 0.00/1.66M (raw) [  0.0%] in 00:00 (e…"
      ]
     },
     "metadata": {},
     "output_type": "display_data"
    },
    {
     "name": "stdout",
     "output_type": "stream",
     "text": [
      "Downloading 5/9: m_4609915_sw_14_1_20120714.tif\n"
     ]
    },
    {
     "data": {
      "application/vnd.jupyter.widget-view+json": {
       "model_id": "007698c746e84e5dae0130adaa5944fa",
       "version_major": 2,
       "version_minor": 0
      },
      "text/plain": [
       "m_4609915_sw_14_1_20120714.tif: |                                      | 0.00/1.66M (raw) [  0.0%] in 00:00 (e…"
      ]
     },
     "metadata": {},
     "output_type": "display_data"
    },
    {
     "name": "stdout",
     "output_type": "stream",
     "text": [
      "Downloading 6/9: m_4609915_sw_14_1_20140901.tif\n"
     ]
    },
    {
     "data": {
      "application/vnd.jupyter.widget-view+json": {
       "model_id": "9b871a92d23746baad56850ecdfd4fbf",
       "version_major": 2,
       "version_minor": 0
      },
      "text/plain": [
       "m_4609915_sw_14_1_20140901.tif: |                                      | 0.00/1.66M (raw) [  0.0%] in 00:00 (e…"
      ]
     },
     "metadata": {},
     "output_type": "display_data"
    },
    {
     "name": "stdout",
     "output_type": "stream",
     "text": [
      "Downloading 7/9: m_4609915_sw_14_1_20150926.tif\n"
     ]
    },
    {
     "data": {
      "application/vnd.jupyter.widget-view+json": {
       "model_id": "ab49bebff6b448a697f3ddf0507e6c1d",
       "version_major": 2,
       "version_minor": 0
      },
      "text/plain": [
       "m_4609915_sw_14_1_20150926.tif: |                                      | 0.00/1.66M (raw) [  0.0%] in 00:00 (e…"
      ]
     },
     "metadata": {},
     "output_type": "display_data"
    },
    {
     "name": "stdout",
     "output_type": "stream",
     "text": [
      "Downloading 8/9: m_4609915_sw_14_h_20160704.tif\n"
     ]
    },
    {
     "data": {
      "application/vnd.jupyter.widget-view+json": {
       "model_id": "f34fbcc360544bb0a3675eef767ab26f",
       "version_major": 2,
       "version_minor": 0
      },
      "text/plain": [
       "m_4609915_sw_14_h_20160704.tif: |                                      | 0.00/1.63M (raw) [  0.0%] in 00:00 (e…"
      ]
     },
     "metadata": {},
     "output_type": "display_data"
    },
    {
     "name": "stdout",
     "output_type": "stream",
     "text": [
      "Downloading 9/9: m_4609915_sw_14_h_20170703.tif\n"
     ]
    },
    {
     "data": {
      "application/vnd.jupyter.widget-view+json": {
       "model_id": "ff84e971382947e2ab91f57487b74125",
       "version_major": 2,
       "version_minor": 0
      },
      "text/plain": [
       "m_4609915_sw_14_h_20170703.tif: |                                      | 0.00/1.49M (raw) [  0.0%] in 00:00 (e…"
      ]
     },
     "metadata": {},
     "output_type": "display_data"
    }
   ],
   "source": [
    "out_dir = os.path.expanduser(\"~/Downloads\")\n",
    "loc = ee.Geometry.Point(-99.2222, 46.7816)\n",
    "collection = (\n",
    "    ee.ImageCollection(\"USDA/NAIP/DOQQ\")\n",
    "    .filterBounds(loc)\n",
    "    .filterDate(\"2008-01-01\", \"2020-01-01\")\n",
    "    .filter(ee.Filter.listContains(\"system:band_names\", \"N\"))\n",
    ")\n",
    "geemap.download_ee_image_collection(collection, out_dir, scale=10)\n"
   ]
  },
  {
   "cell_type": "code",
   "execution_count": null,
   "id": "ac2c45e3-dc23-4ade-9659-b0a26189691e",
   "metadata": {},
   "outputs": [],
   "source": [
    "def func_xmg(image):\n",
    "  NUM_BANDS = 33\n",
    "  bands = Array(NUM_BANDS)\n",
    "  for i in range(1, 17, 1):\n",
    "    bandName = 'CMI_C' + (100 + i + '').slice(-2)\n",
    "    offset = ee.Number(image.get(bandName + '_offset'))\n",
    "    scale =  ee.Number(image.get(bandName + '_scale'))\n",
    "    bands[(i-1) * 2] = image.select(bandName).multiply(scale).add(offset)\n",
    "    dqfName = 'DQF_C' + (100 + i + '').slice(-2)\n",
    "    bands[(i-1) * 2 + 1] = image.select(dqfName)\n",
    "\n",
    "  return ee.Image(ee.Image(bands).copyProperties(image, image.propertyNames())).toFloat()\n",
    "\n",
    "scaleOffset = unsigned16.map(func_xmg)\n"
   ]
  },
  {
   "cell_type": "code",
   "execution_count": 2,
   "id": "c456e928-da59-4109-b14b-948cebe862f5",
   "metadata": {},
   "outputs": [],
   "source": [
    "from goes2go import GOES\n",
    "\n",
    "G = GOES(satellite=16, product=\"ABI-L2-MCMIPF\", domain='F')"
   ]
  },
  {
   "cell_type": "code",
   "execution_count": 16,
   "id": "7b174bbb-648d-418c-b587-c303e4dc4858",
   "metadata": {},
   "outputs": [
    {
     "ename": "DateParseError",
     "evalue": "Unknown datetime string format, unable to parse: 2022-07-04 Jul:00",
     "output_type": "error",
     "traceback": [
      "\u001b[0;31m---------------------------------------------------------------------------\u001b[0m",
      "\u001b[0;31mDateParseError\u001b[0m                            Traceback (most recent call last)",
      "Cell \u001b[0;32mIn[16], line 1\u001b[0m\n\u001b[0;32m----> 1\u001b[0m df \u001b[38;5;241m=\u001b[39m \u001b[43mG\u001b[49m\u001b[38;5;241;43m.\u001b[39;49m\u001b[43mdf\u001b[49m\u001b[43m(\u001b[49m\u001b[43mstart\u001b[49m\u001b[38;5;241;43m=\u001b[39;49m\u001b[38;5;124;43m'\u001b[39;49m\u001b[38;5;124;43m2022-07-04\u001b[39;49m\u001b[38;5;124;43m'\u001b[39;49m\u001b[43m,\u001b[49m\u001b[43m \u001b[49m\u001b[43mend\u001b[49m\u001b[38;5;241;43m=\u001b[39;49m\u001b[38;5;124;43m'\u001b[39;49m\u001b[38;5;124;43m2022-07-04\u001b[39;49m\u001b[38;5;124;43m'\u001b[39;49m\u001b[43m)\u001b[49m\n",
      "File \u001b[0;32m~/miniforge3/envs/descarga-goes/lib/python3.12/site-packages/goes2go/NEW.py:244\u001b[0m, in \u001b[0;36mGOES.df\u001b[0;34m(self, start, end, refresh)\u001b[0m\n\u001b[1;32m    233\u001b[0m \u001b[38;5;28;01mdef\u001b[39;00m \u001b[38;5;21mdf\u001b[39m(\u001b[38;5;28mself\u001b[39m, start, end, refresh\u001b[38;5;241m=\u001b[39m\u001b[38;5;28;01mTrue\u001b[39;00m):\n\u001b[1;32m    234\u001b[0m \u001b[38;5;250m    \u001b[39m\u001b[38;5;124;03m\"\"\"Get list of requested GOES files as pandas.DataFrame.\u001b[39;00m\n\u001b[1;32m    235\u001b[0m \n\u001b[1;32m    236\u001b[0m \u001b[38;5;124;03m    Parameters\u001b[39;00m\n\u001b[0;32m   (...)\u001b[0m\n\u001b[1;32m    242\u001b[0m \u001b[38;5;124;03m        Default True will refresh and not use a cached list.\u001b[39;00m\n\u001b[1;32m    243\u001b[0m \u001b[38;5;124;03m    \"\"\"\u001b[39;00m\n\u001b[0;32m--> 244\u001b[0m     \u001b[38;5;28;01mreturn\u001b[39;00m \u001b[43m_goes_file_df\u001b[49m\u001b[43m(\u001b[49m\n\u001b[1;32m    245\u001b[0m \u001b[43m        \u001b[49m\u001b[38;5;28;43mself\u001b[39;49m\u001b[38;5;241;43m.\u001b[39;49m\u001b[43msatellite\u001b[49m\u001b[43m,\u001b[49m\n\u001b[1;32m    246\u001b[0m \u001b[43m        \u001b[49m\u001b[38;5;28;43mself\u001b[39;49m\u001b[38;5;241;43m.\u001b[39;49m\u001b[43mproduct\u001b[49m\u001b[43m,\u001b[49m\n\u001b[1;32m    247\u001b[0m \u001b[43m        \u001b[49m\u001b[43mstart\u001b[49m\u001b[38;5;241;43m=\u001b[39;49m\u001b[43mstart\u001b[49m\u001b[43m,\u001b[49m\n\u001b[1;32m    248\u001b[0m \u001b[43m        \u001b[49m\u001b[43mend\u001b[49m\u001b[38;5;241;43m=\u001b[39;49m\u001b[43mend\u001b[49m\u001b[43m,\u001b[49m\n\u001b[1;32m    249\u001b[0m \u001b[43m        \u001b[49m\u001b[43mbands\u001b[49m\u001b[38;5;241;43m=\u001b[39;49m\u001b[38;5;28;43mself\u001b[39;49m\u001b[38;5;241;43m.\u001b[39;49m\u001b[43mbands\u001b[49m\u001b[43m,\u001b[49m\n\u001b[1;32m    250\u001b[0m \u001b[43m        \u001b[49m\u001b[43mrefresh\u001b[49m\u001b[38;5;241;43m=\u001b[39;49m\u001b[43mrefresh\u001b[49m\u001b[43m,\u001b[49m\n\u001b[1;32m    251\u001b[0m \u001b[43m    \u001b[49m\u001b[43m)\u001b[49m\n",
      "File \u001b[0;32m~/miniforge3/envs/descarga-goes/lib/python3.12/site-packages/goes2go/data.py:138\u001b[0m, in \u001b[0;36m_goes_file_df\u001b[0;34m(satellite, product, start, end, bands, refresh)\u001b[0m\n\u001b[1;32m    135\u001b[0m start \u001b[38;5;241m=\u001b[39m pd\u001b[38;5;241m.\u001b[39mto_datetime(start)\n\u001b[1;32m    136\u001b[0m end \u001b[38;5;241m=\u001b[39m pd\u001b[38;5;241m.\u001b[39mto_datetime(end)\n\u001b[0;32m--> 138\u001b[0m DATES \u001b[38;5;241m=\u001b[39m \u001b[43mpd\u001b[49m\u001b[38;5;241;43m.\u001b[39;49m\u001b[43mdate_range\u001b[49m\u001b[43m(\u001b[49m\u001b[38;5;124;43mf\u001b[39;49m\u001b[38;5;124;43m\"\u001b[39;49m\u001b[38;5;132;43;01m{\u001b[39;49;00m\u001b[43mstart\u001b[49m\u001b[38;5;132;43;01m:\u001b[39;49;00m\u001b[38;5;124;43m%Y-%m-%d %h:00\u001b[39;49m\u001b[38;5;132;43;01m}\u001b[39;49;00m\u001b[38;5;124;43m\"\u001b[39;49m\u001b[43m,\u001b[49m\u001b[43m \u001b[49m\u001b[38;5;124;43mf\u001b[39;49m\u001b[38;5;124;43m\"\u001b[39;49m\u001b[38;5;132;43;01m{\u001b[39;49;00m\u001b[43mend\u001b[49m\u001b[38;5;132;43;01m:\u001b[39;49;00m\u001b[38;5;124;43m%Y-%m-%d %h:00\u001b[39;49m\u001b[38;5;132;43;01m}\u001b[39;49;00m\u001b[38;5;124;43m\"\u001b[39;49m\u001b[43m,\u001b[49m\u001b[43m \u001b[49m\u001b[43mfreq\u001b[49m\u001b[38;5;241;43m=\u001b[39;49m\u001b[38;5;124;43m\"\u001b[39;49m\u001b[38;5;124;43m1h\u001b[39;49m\u001b[38;5;124;43m\"\u001b[39;49m\u001b[43m)\u001b[49m\n\u001b[1;32m    140\u001b[0m \u001b[38;5;66;03m# List all files for each date\u001b[39;00m\n\u001b[1;32m    141\u001b[0m \u001b[38;5;66;03m# ----------------------------\u001b[39;00m\n\u001b[1;32m    142\u001b[0m files \u001b[38;5;241m=\u001b[39m []\n",
      "File \u001b[0;32m~/miniforge3/envs/descarga-goes/lib/python3.12/site-packages/pandas/core/indexes/datetimes.py:1008\u001b[0m, in \u001b[0;36mdate_range\u001b[0;34m(start, end, periods, freq, tz, normalize, name, inclusive, unit, **kwargs)\u001b[0m\n\u001b[1;32m   1005\u001b[0m \u001b[38;5;28;01mif\u001b[39;00m freq \u001b[38;5;129;01mis\u001b[39;00m \u001b[38;5;28;01mNone\u001b[39;00m \u001b[38;5;129;01mand\u001b[39;00m com\u001b[38;5;241m.\u001b[39many_none(periods, start, end):\n\u001b[1;32m   1006\u001b[0m     freq \u001b[38;5;241m=\u001b[39m \u001b[38;5;124m\"\u001b[39m\u001b[38;5;124mD\u001b[39m\u001b[38;5;124m\"\u001b[39m\n\u001b[0;32m-> 1008\u001b[0m dtarr \u001b[38;5;241m=\u001b[39m \u001b[43mDatetimeArray\u001b[49m\u001b[38;5;241;43m.\u001b[39;49m\u001b[43m_generate_range\u001b[49m\u001b[43m(\u001b[49m\n\u001b[1;32m   1009\u001b[0m \u001b[43m    \u001b[49m\u001b[43mstart\u001b[49m\u001b[38;5;241;43m=\u001b[39;49m\u001b[43mstart\u001b[49m\u001b[43m,\u001b[49m\n\u001b[1;32m   1010\u001b[0m \u001b[43m    \u001b[49m\u001b[43mend\u001b[49m\u001b[38;5;241;43m=\u001b[39;49m\u001b[43mend\u001b[49m\u001b[43m,\u001b[49m\n\u001b[1;32m   1011\u001b[0m \u001b[43m    \u001b[49m\u001b[43mperiods\u001b[49m\u001b[38;5;241;43m=\u001b[39;49m\u001b[43mperiods\u001b[49m\u001b[43m,\u001b[49m\n\u001b[1;32m   1012\u001b[0m \u001b[43m    \u001b[49m\u001b[43mfreq\u001b[49m\u001b[38;5;241;43m=\u001b[39;49m\u001b[43mfreq\u001b[49m\u001b[43m,\u001b[49m\n\u001b[1;32m   1013\u001b[0m \u001b[43m    \u001b[49m\u001b[43mtz\u001b[49m\u001b[38;5;241;43m=\u001b[39;49m\u001b[43mtz\u001b[49m\u001b[43m,\u001b[49m\n\u001b[1;32m   1014\u001b[0m \u001b[43m    \u001b[49m\u001b[43mnormalize\u001b[49m\u001b[38;5;241;43m=\u001b[39;49m\u001b[43mnormalize\u001b[49m\u001b[43m,\u001b[49m\n\u001b[1;32m   1015\u001b[0m \u001b[43m    \u001b[49m\u001b[43minclusive\u001b[49m\u001b[38;5;241;43m=\u001b[39;49m\u001b[43minclusive\u001b[49m\u001b[43m,\u001b[49m\n\u001b[1;32m   1016\u001b[0m \u001b[43m    \u001b[49m\u001b[43munit\u001b[49m\u001b[38;5;241;43m=\u001b[39;49m\u001b[43munit\u001b[49m\u001b[43m,\u001b[49m\n\u001b[1;32m   1017\u001b[0m \u001b[43m    \u001b[49m\u001b[38;5;241;43m*\u001b[39;49m\u001b[38;5;241;43m*\u001b[39;49m\u001b[43mkwargs\u001b[49m\u001b[43m,\u001b[49m\n\u001b[1;32m   1018\u001b[0m \u001b[43m\u001b[49m\u001b[43m)\u001b[49m\n\u001b[1;32m   1019\u001b[0m \u001b[38;5;28;01mreturn\u001b[39;00m DatetimeIndex\u001b[38;5;241m.\u001b[39m_simple_new(dtarr, name\u001b[38;5;241m=\u001b[39mname)\n",
      "File \u001b[0;32m~/miniforge3/envs/descarga-goes/lib/python3.12/site-packages/pandas/core/arrays/datetimes.py:424\u001b[0m, in \u001b[0;36mDatetimeArray._generate_range\u001b[0;34m(cls, start, end, periods, freq, tz, normalize, ambiguous, nonexistent, inclusive, unit)\u001b[0m\n\u001b[1;32m    421\u001b[0m freq \u001b[38;5;241m=\u001b[39m to_offset(freq)\n\u001b[1;32m    423\u001b[0m \u001b[38;5;28;01mif\u001b[39;00m start \u001b[38;5;129;01mis\u001b[39;00m \u001b[38;5;129;01mnot\u001b[39;00m \u001b[38;5;28;01mNone\u001b[39;00m:\n\u001b[0;32m--> 424\u001b[0m     start \u001b[38;5;241m=\u001b[39m \u001b[43mTimestamp\u001b[49m\u001b[43m(\u001b[49m\u001b[43mstart\u001b[49m\u001b[43m)\u001b[49m\n\u001b[1;32m    426\u001b[0m \u001b[38;5;28;01mif\u001b[39;00m end \u001b[38;5;129;01mis\u001b[39;00m \u001b[38;5;129;01mnot\u001b[39;00m \u001b[38;5;28;01mNone\u001b[39;00m:\n\u001b[1;32m    427\u001b[0m     end \u001b[38;5;241m=\u001b[39m Timestamp(end)\n",
      "File \u001b[0;32mtimestamps.pyx:1865\u001b[0m, in \u001b[0;36mpandas._libs.tslibs.timestamps.Timestamp.__new__\u001b[0;34m()\u001b[0m\n",
      "File \u001b[0;32mconversion.pyx:364\u001b[0m, in \u001b[0;36mpandas._libs.tslibs.conversion.convert_to_tsobject\u001b[0;34m()\u001b[0m\n",
      "File \u001b[0;32mconversion.pyx:641\u001b[0m, in \u001b[0;36mpandas._libs.tslibs.conversion.convert_str_to_tsobject\u001b[0;34m()\u001b[0m\n",
      "File \u001b[0;32mparsing.pyx:336\u001b[0m, in \u001b[0;36mpandas._libs.tslibs.parsing.parse_datetime_string\u001b[0;34m()\u001b[0m\n",
      "File \u001b[0;32mparsing.pyx:666\u001b[0m, in \u001b[0;36mpandas._libs.tslibs.parsing.dateutil_parse\u001b[0;34m()\u001b[0m\n",
      "\u001b[0;31mDateParseError\u001b[0m: Unknown datetime string format, unable to parse: 2022-07-04 Jul:00"
     ]
    }
   ],
   "source": [
    " df = G.df(start='2022-07-04', end='2022-07-04')"
   ]
  },
  {
   "cell_type": "code",
   "execution_count": null,
   "id": "67ccdfc7-2ef4-4d5f-83ab-60b31519ae0e",
   "metadata": {},
   "outputs": [],
   "source": []
  }
 ],
 "metadata": {
  "kernelspec": {
   "display_name": "Python 3 (ipykernel)",
   "language": "python",
   "name": "python3"
  },
  "language_info": {
   "codemirror_mode": {
    "name": "ipython",
    "version": 3
   },
   "file_extension": ".py",
   "mimetype": "text/x-python",
   "name": "python",
   "nbconvert_exporter": "python",
   "pygments_lexer": "ipython3",
   "version": "3.12.2"
  }
 },
 "nbformat": 4,
 "nbformat_minor": 5
}
