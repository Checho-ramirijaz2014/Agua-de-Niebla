{
 "cells": [
  {
   "cell_type": "markdown",
   "id": "8d06d28d-7c1c-4ee1-b08a-e6d8bea23ab5",
   "metadata": {},
   "source": [
    "# Descarga de imagenes"
   ]
  },
  {
   "cell_type": "code",
   "execution_count": 1,
   "id": "f61b9e3e-4259-423c-8fc2-248afdaa43d6",
   "metadata": {},
   "outputs": [],
   "source": [
    "import ee\n",
    "import geemap\n",
    "from fastkml import kml\n",
    "from fiona.drvsupport import supported_drivers\n",
    "import fiona\n",
    "import folium\n",
    "import geojson\n",
    "import geopandas as gpd\n",
    "import os\n",
    "#from geetools import batch\n",
    "import pandas as pd\n",
    "import matplotlib.pyplot as plt\n",
    "from shapely.geometry import shape\n",
    "from geojson import Polygon\n",
    "import requests\n",
    "import zipfile"
   ]
  },
  {
   "cell_type": "markdown",
   "id": "0dd0094e-283b-4f02-a23b-4c2cd8cce718",
   "metadata": {},
   "source": [
    "## Geometria"
   ]
  },
  {
   "cell_type": "code",
   "execution_count": 2,
   "id": "b97f4216-0682-487d-861b-c11dca24fe4b",
   "metadata": {},
   "outputs": [
    {
     "data": {
      "text/html": [
       "\n",
       "            <style>\n",
       "                .geemap-dark {\n",
       "                    --jp-widgets-color: white;\n",
       "                    --jp-widgets-label-color: white;\n",
       "                    --jp-ui-font-color1: white;\n",
       "                    --jp-layout-color2: #454545;\n",
       "                    background-color: #383838;\n",
       "                }\n",
       "                    \n",
       "                .geemap-dark .jupyter-button {\n",
       "                    --jp-layout-color3: #383838;\n",
       "                }\n",
       "                \n",
       "                .geemap-colab {\n",
       "                    background-color: var(--colab-primary-surface-color, white);\n",
       "                }\n",
       "                    \n",
       "                .geemap-colab .jupyter-button {\n",
       "                    --jp-layout-color3: var(--colab-primary-surface-color, white);\n",
       "                }\n",
       "            </style>\n",
       "            "
      ],
      "text/plain": [
       "<IPython.core.display.HTML object>"
      ]
     },
     "metadata": {},
     "output_type": "display_data"
    }
   ],
   "source": [
    "#procesamiento de la geometria\n",
    "supported_drivers['KML'] = 'rw'\n",
    "\n",
    "geometriajson = gpd.read_file(os.path.join(\"datos\",\"Aestudio84.kml\"), driver=\"kml\")\n",
    "geometria_geojson = os.path.join(\"datos\", \"geometria.geojson\")\n",
    "\n",
    "geometriajson.to_file(geometria_geojson, driver=\"GeoJSON\")\n",
    "\n",
    "#geometria = [fila[:2] for fila in list(geometriajson.exterior[0].coords)]\n",
    "#geometria"
   ]
  },
  {
   "cell_type": "code",
   "execution_count": 3,
   "id": "78423b8d-8f93-448e-a971-290b06f227be",
   "metadata": {},
   "outputs": [
    {
     "data": {
      "text/html": [
       "\n",
       "            <style>\n",
       "                .geemap-dark {\n",
       "                    --jp-widgets-color: white;\n",
       "                    --jp-widgets-label-color: white;\n",
       "                    --jp-ui-font-color1: white;\n",
       "                    --jp-layout-color2: #454545;\n",
       "                    background-color: #383838;\n",
       "                }\n",
       "                    \n",
       "                .geemap-dark .jupyter-button {\n",
       "                    --jp-layout-color3: #383838;\n",
       "                }\n",
       "                \n",
       "                .geemap-colab {\n",
       "                    background-color: var(--colab-primary-surface-color, white);\n",
       "                }\n",
       "                    \n",
       "                .geemap-colab .jupyter-button {\n",
       "                    --jp-layout-color3: var(--colab-primary-surface-color, white);\n",
       "                }\n",
       "            </style>\n",
       "            "
      ],
      "text/plain": [
       "<IPython.core.display.HTML object>"
      ]
     },
     "metadata": {},
     "output_type": "display_data"
    }
   ],
   "source": [
    "with open(geometria_geojson) as file:\n",
    "    gj = geojson.load(file)"
   ]
  },
  {
   "cell_type": "code",
   "execution_count": 4,
   "id": "114888d7-f3ae-4f29-8571-6d91b2371e82",
   "metadata": {},
   "outputs": [
    {
     "data": {
      "text/html": [
       "\n",
       "            <style>\n",
       "                .geemap-dark {\n",
       "                    --jp-widgets-color: white;\n",
       "                    --jp-widgets-label-color: white;\n",
       "                    --jp-ui-font-color1: white;\n",
       "                    --jp-layout-color2: #454545;\n",
       "                    background-color: #383838;\n",
       "                }\n",
       "                    \n",
       "                .geemap-dark .jupyter-button {\n",
       "                    --jp-layout-color3: #383838;\n",
       "                }\n",
       "                \n",
       "                .geemap-colab {\n",
       "                    background-color: var(--colab-primary-surface-color, white);\n",
       "                }\n",
       "                    \n",
       "                .geemap-colab .jupyter-button {\n",
       "                    --jp-layout-color3: var(--colab-primary-surface-color, white);\n",
       "                }\n",
       "            </style>\n",
       "            "
      ],
      "text/plain": [
       "<IPython.core.display.HTML object>"
      ]
     },
     "metadata": {},
     "output_type": "display_data"
    },
    {
     "data": {
      "text/html": [
       "<div>\n",
       "<style scoped>\n",
       "    .dataframe tbody tr th:only-of-type {\n",
       "        vertical-align: middle;\n",
       "    }\n",
       "\n",
       "    .dataframe tbody tr th {\n",
       "        vertical-align: top;\n",
       "    }\n",
       "\n",
       "    .dataframe thead th {\n",
       "        text-align: right;\n",
       "    }\n",
       "</style>\n",
       "<table border=\"1\" class=\"dataframe\">\n",
       "  <thead>\n",
       "    <tr style=\"text-align: right;\">\n",
       "      <th></th>\n",
       "      <th>Name</th>\n",
       "      <th>Description</th>\n",
       "      <th>geometry</th>\n",
       "    </tr>\n",
       "  </thead>\n",
       "  <tbody>\n",
       "    <tr>\n",
       "      <th>0</th>\n",
       "      <td>poligono</td>\n",
       "      <td></td>\n",
       "      <td>POLYGON Z ((-75.00000 -36.00000 0.00000, -67.0...</td>\n",
       "    </tr>\n",
       "  </tbody>\n",
       "</table>\n",
       "</div>"
      ],
      "text/plain": [
       "       Name Description                                           geometry\n",
       "0  poligono              POLYGON Z ((-75.00000 -36.00000 0.00000, -67.0..."
      ]
     },
     "execution_count": 4,
     "metadata": {},
     "output_type": "execute_result"
    }
   ],
   "source": [
    "geometriajson"
   ]
  },
  {
   "cell_type": "code",
   "execution_count": 10,
   "id": "cd0eb23b-5552-4f08-a815-fad182c382cd",
   "metadata": {},
   "outputs": [
    {
     "data": {
      "text/html": [
       "\n",
       "            <style>\n",
       "                .geemap-dark {\n",
       "                    --jp-widgets-color: white;\n",
       "                    --jp-widgets-label-color: white;\n",
       "                    --jp-ui-font-color1: white;\n",
       "                    --jp-layout-color2: #454545;\n",
       "                    background-color: #383838;\n",
       "                }\n",
       "                    \n",
       "                .geemap-dark .jupyter-button {\n",
       "                    --jp-layout-color3: #383838;\n",
       "                }\n",
       "                \n",
       "                .geemap-colab {\n",
       "                    background-color: var(--colab-primary-surface-color, white);\n",
       "                }\n",
       "                    \n",
       "                .geemap-colab .jupyter-button {\n",
       "                    --jp-layout-color3: var(--colab-primary-surface-color, white);\n",
       "                }\n",
       "            </style>\n",
       "            "
      ],
      "text/plain": [
       "<IPython.core.display.HTML object>"
      ]
     },
     "metadata": {},
     "output_type": "display_data"
    }
   ],
   "source": [
    "#codigo para convertir el kmz a kml\n",
    "#en caso que no este presente\n",
    "def conversion_kmz():\n",
    "    path_kmz = os.path.join(\"datos\", \"Aestudio84.kmz\")\n",
    "    kml_doc = \"doc.kml\"\n",
    "    with zipfile.ZipFile(path_kmz, 'r') as kmz:\n",
    "        if kml_doc in kmz.namelist():\n",
    "            kml_content = kmz.read(kml_doc).decode('utf-8')\n",
    "    \n",
    "            with open(\"Aestudio84.kml\", 'w', encoding='utf-8') as kml_file:\n",
    "                kml_file.write(kml_content)\n",
    "    \n",
    "            print(\"Archivo kml guardado\")\n",
    "        else:\n",
    "            print(\"no se encontro el kml\")\n",
    "\n",
    "#conversion_kmz()"
   ]
  },
  {
   "cell_type": "code",
   "execution_count": 6,
   "id": "8a5568a6-bb5e-4f22-921a-7ec5f42ef98d",
   "metadata": {},
   "outputs": [
    {
     "data": {
      "text/html": [
       "\n",
       "            <style>\n",
       "                .geemap-dark {\n",
       "                    --jp-widgets-color: white;\n",
       "                    --jp-widgets-label-color: white;\n",
       "                    --jp-ui-font-color1: white;\n",
       "                    --jp-layout-color2: #454545;\n",
       "                    background-color: #383838;\n",
       "                }\n",
       "                    \n",
       "                .geemap-dark .jupyter-button {\n",
       "                    --jp-layout-color3: #383838;\n",
       "                }\n",
       "                \n",
       "                .geemap-colab {\n",
       "                    background-color: var(--colab-primary-surface-color, white);\n",
       "                }\n",
       "                    \n",
       "                .geemap-colab .jupyter-button {\n",
       "                    --jp-layout-color3: var(--colab-primary-surface-color, white);\n",
       "                }\n",
       "            </style>\n",
       "            "
      ],
      "text/plain": [
       "<IPython.core.display.HTML object>"
      ]
     },
     "metadata": {},
     "output_type": "display_data"
    }
   ],
   "source": [
    "#Hardcodeo de datos\n",
    "#fecha: cada dia del 2022\n",
    "##observacion: probar con un dia\n",
    "inicio = \"2022-01-01\"\n",
    "fin = '2022-01-02'"
   ]
  },
  {
   "cell_type": "code",
   "execution_count": 7,
   "id": "adb307e3-421e-4ca6-b08b-0af54fe6bc93",
   "metadata": {},
   "outputs": [
    {
     "data": {
      "text/html": [
       "\n",
       "            <style>\n",
       "                .geemap-dark {\n",
       "                    --jp-widgets-color: white;\n",
       "                    --jp-widgets-label-color: white;\n",
       "                    --jp-ui-font-color1: white;\n",
       "                    --jp-layout-color2: #454545;\n",
       "                    background-color: #383838;\n",
       "                }\n",
       "                    \n",
       "                .geemap-dark .jupyter-button {\n",
       "                    --jp-layout-color3: #383838;\n",
       "                }\n",
       "                \n",
       "                .geemap-colab {\n",
       "                    background-color: var(--colab-primary-surface-color, white);\n",
       "                }\n",
       "                    \n",
       "                .geemap-colab .jupyter-button {\n",
       "                    --jp-layout-color3: var(--colab-primary-surface-color, white);\n",
       "                }\n",
       "            </style>\n",
       "            "
      ],
      "text/plain": [
       "<IPython.core.display.HTML object>"
      ]
     },
     "metadata": {},
     "output_type": "display_data"
    },
    {
     "data": {
      "text/plain": [
       "[[-75.000001, -36.000004],\n",
       " [-66.999999, -36.0],\n",
       " [-66.999999, -17.0],\n",
       " [-75.000026, -16.999993],\n",
       " [-75.000001, -36.000004]]"
      ]
     },
     "execution_count": 7,
     "metadata": {},
     "output_type": "execute_result"
    }
   ],
   "source": [
    "prueba_gjson= gj[\"features\"][0][\"geometry\"]\n",
    "geometria_rounded = [[coord[0], coord[1]] for coord in prueba_gjson[\"coordinates\"][0]]\n",
    "geometria_rounded"
   ]
  },
  {
   "cell_type": "code",
   "execution_count": 8,
   "id": "ad24e547-d87c-4a3f-83db-61fdf2c98496",
   "metadata": {},
   "outputs": [
    {
     "data": {
      "text/html": [
       "\n",
       "            <style>\n",
       "                .geemap-dark {\n",
       "                    --jp-widgets-color: white;\n",
       "                    --jp-widgets-label-color: white;\n",
       "                    --jp-ui-font-color1: white;\n",
       "                    --jp-layout-color2: #454545;\n",
       "                    background-color: #383838;\n",
       "                }\n",
       "                    \n",
       "                .geemap-dark .jupyter-button {\n",
       "                    --jp-layout-color3: #383838;\n",
       "                }\n",
       "                \n",
       "                .geemap-colab {\n",
       "                    background-color: var(--colab-primary-surface-color, white);\n",
       "                }\n",
       "                    \n",
       "                .geemap-colab .jupyter-button {\n",
       "                    --jp-layout-color3: var(--colab-primary-surface-color, white);\n",
       "                }\n",
       "            </style>\n",
       "            "
      ],
      "text/plain": [
       "<IPython.core.display.HTML object>"
      ]
     },
     "metadata": {},
     "output_type": "display_data"
    },
    {
     "data": {
      "text/plain": [
       "[[[-75.000001, -36.000004, 0.0],\n",
       "  [-66.999999, -36.0, 0.0],\n",
       "  [-66.999999, -17.0, 0.0],\n",
       "  [-75.000026, -16.999993, 0.0],\n",
       "  [-75.000001, -36.000004, 0.0]]]"
      ]
     },
     "execution_count": 8,
     "metadata": {},
     "output_type": "execute_result"
    }
   ],
   "source": [
    "prueba_gjson[\"coordinates\"]"
   ]
  },
  {
   "cell_type": "markdown",
   "id": "3ee43939-297d-4ba6-bea7-869080ba0944",
   "metadata": {},
   "source": [
    "## carga"
   ]
  },
  {
   "cell_type": "code",
   "execution_count": 35,
   "id": "47b0000e-4afc-4de6-abc0-448ea96f526c",
   "metadata": {},
   "outputs": [
    {
     "data": {
      "text/html": [
       "\n",
       "            <style>\n",
       "                .geemap-dark {\n",
       "                    --jp-widgets-color: white;\n",
       "                    --jp-widgets-label-color: white;\n",
       "                    --jp-ui-font-color1: white;\n",
       "                    --jp-layout-color2: #454545;\n",
       "                    background-color: #383838;\n",
       "                }\n",
       "                    \n",
       "                .geemap-dark .jupyter-button {\n",
       "                    --jp-layout-color3: #383838;\n",
       "                }\n",
       "                \n",
       "                .geemap-colab {\n",
       "                    background-color: var(--colab-primary-surface-color, white);\n",
       "                }\n",
       "                    \n",
       "                .geemap-colab .jupyter-button {\n",
       "                    --jp-layout-color3: var(--colab-primary-surface-color, white);\n",
       "                }\n",
       "            </style>\n",
       "            "
      ],
      "text/plain": [
       "<IPython.core.display.HTML object>"
      ]
     },
     "metadata": {},
     "output_type": "display_data"
    },
    {
     "data": {
      "application/vnd.jupyter.widget-view+json": {
       "model_id": "306e83323f8f412cbb8b8d05e1fe6892",
       "version_major": 2,
       "version_minor": 0
      },
      "text/plain": [
       "Map(center=[0, 0], controls=(WidgetControl(options=['position', 'transparent_bg'], widget=SearchDataGUI(childr…"
      ]
     },
     "execution_count": 35,
     "metadata": {},
     "output_type": "execute_result"
    }
   ],
   "source": [
    "ee.Initialize(project=\"sergio-ramrez-agua-de-niebla\")\n",
    "preferencias = {\"zoom\": 22, \"basemap\": \"Esri.WorldImagery\",\n",
    "                #\"data_ctrl\":False, \"toolbar_ctrl\":False, \"draw_ctrl\":False\n",
    "}\n",
    "#\"center\": [-27.3666, -70.3322]\n",
    "map = geemap.Map(**preferencias)\n",
    "\n",
    "region = ee.Geometry.Polygon(geometria_rounded)\n",
    "goes = ee.ImageCollection(\"NOAA/GOES/16/MCMIPF\").filterDate(inicio, fin).first().clip(region)\n",
    "\n",
    "loc = ee.Geometry.Point(-33.447487, -70.6737816676)\n",
    "\n",
    "\n",
    "vis = {\n",
    "    \"bands\": [\"CMI_C04\"],\n",
    "    \"min\": 0.0,\n",
    "    \"max\": 1.3,\n",
    "    \"gamma\": 0.1\n",
    "}\n",
    "\n",
    "map.centerObject(region)\n",
    "map.addLayer(region, {\"color\": 'FF0000'}, 'geodesic polygon')\n",
    "#map.add_layer(atacama, vis, \"Zona Agua de Niebla\")\n",
    "map"
   ]
  },
  {
   "cell_type": "code",
   "execution_count": null,
   "id": "3d8bd614-7dbd-48ff-995c-8d7595a28ac2",
   "metadata": {},
   "outputs": [],
   "source": [
    "out_dir = os.path.expanduser(\"~/Desktop/goes-images/\")\n",
    "\n",
    "geemap.download_ee_image_collection(atacama, out_dir=out_dir, region=region)"
   ]
  },
  {
   "cell_type": "code",
   "execution_count": 38,
   "id": "baaba41e-e962-438a-9845-f13b627a1c8e",
   "metadata": {},
   "outputs": [
    {
     "data": {
      "text/html": [
       "\n",
       "            <style>\n",
       "                .geemap-dark {\n",
       "                    --jp-widgets-color: white;\n",
       "                    --jp-widgets-label-color: white;\n",
       "                    --jp-ui-font-color1: white;\n",
       "                    --jp-layout-color2: #454545;\n",
       "                    background-color: #383838;\n",
       "                }\n",
       "                    \n",
       "                .geemap-dark .jupyter-button {\n",
       "                    --jp-layout-color3: #383838;\n",
       "                }\n",
       "                \n",
       "                .geemap-colab {\n",
       "                    background-color: var(--colab-primary-surface-color, white);\n",
       "                }\n",
       "                    \n",
       "                .geemap-colab .jupyter-button {\n",
       "                    --jp-layout-color3: var(--colab-primary-surface-color, white);\n",
       "                }\n",
       "            </style>\n",
       "            "
      ],
      "text/plain": [
       "<IPython.core.display.HTML object>"
      ]
     },
     "metadata": {},
     "output_type": "display_data"
    },
    {
     "data": {
      "text/html": [
       "<div><style>:root {\n",
       "  --font-color-primary: var(--jp-content-font-color0, rgba(0, 0, 0, 1));\n",
       "  --font-color-secondary: var(--jp-content-font-color2, rgba(0, 0, 0, 0.6));\n",
       "  --font-color-accent: rgba(123, 31, 162, 1);\n",
       "  --border-color: var(--jp-border-color2, #e0e0e0);\n",
       "  --background-color: var(--jp-layout-color0, white);\n",
       "  --background-color-row-even: var(--jp-layout-color1, white);\n",
       "  --background-color-row-odd: var(--jp-layout-color2, #eeeeee);\n",
       "}\n",
       "\n",
       "html[theme=\"dark\"],\n",
       "body[data-theme=\"dark\"],\n",
       "body.vscode-dark {\n",
       "  --font-color-primary: rgba(255, 255, 255, 1);\n",
       "  --font-color-secondary: rgba(255, 255, 255, 0.6);\n",
       "  --font-color-accent: rgb(173, 132, 190);\n",
       "  --border-color: #2e2e2e;\n",
       "  --background-color: #111111;\n",
       "  --background-color-row-even: #111111;\n",
       "  --background-color-row-odd: #313131;\n",
       "}\n",
       "\n",
       ".ee {\n",
       "  padding: 1em;\n",
       "  line-height: 1.5em;\n",
       "  min-width: 300px;\n",
       "  max-width: 1200px;\n",
       "  overflow-y: scroll;\n",
       "  max-height: 600px;\n",
       "  border: 1px solid var(--border-color);\n",
       "  font-family: monospace;\n",
       "}\n",
       "\n",
       ".ee li {\n",
       "  list-style-type: none;\n",
       "}\n",
       "\n",
       ".ee ul {\n",
       "  padding-left: 1.5em !important;\n",
       "  margin: 0;\n",
       "}\n",
       "\n",
       ".ee > ul {\n",
       "  padding-left: 0 !important;\n",
       "}\n",
       "\n",
       ".ee-open,\n",
       ".ee-shut {\n",
       "  color: var(--font-color-secondary);\n",
       "  cursor: pointer;\n",
       "  margin: 0;\n",
       "}\n",
       "\n",
       ".ee-open:hover,\n",
       ".ee-shut:hover {\n",
       "  color: var(--font-color-primary);\n",
       "}\n",
       "\n",
       ".ee-k {\n",
       "  color: var(--font-color-accent);\n",
       "  margin-right: 6px;\n",
       "}\n",
       "\n",
       ".ee-v {\n",
       "  color: var(--font-color-primary);\n",
       "}\n",
       "\n",
       ".ee-toggle {\n",
       "  display: none;\n",
       "}\n",
       "\n",
       ".ee-shut + ul {\n",
       "  display: none;\n",
       "}\n",
       "\n",
       ".ee-open + ul {\n",
       "  display: block;\n",
       "}\n",
       "\n",
       ".ee-shut::before {\n",
       "  display: inline-block;\n",
       "  content: \"▼\";\n",
       "  margin-right: 6px;\n",
       "  transform: rotate(-90deg);\n",
       "  transition: transform 0.2s;\n",
       "}\n",
       "\n",
       ".ee-open::before {\n",
       "  transform: rotate(0deg);\n",
       "  display: inline-block;\n",
       "  content: \"▼\";\n",
       "  margin-right: 6px;\n",
       "  transition: transform 0.2s;\n",
       "}\n",
       "</style><div class='ee'><ul><li><label class='ee-shut'>Polygon (5 vertices)<input type='checkbox' class='ee-toggle'></label><ul><li><span class='ee-k'>type:</span><span class='ee-v'>Polygon</span></li><li><label class='ee-shut'>coordinates: List (1 element)<input type='checkbox' class='ee-toggle'></label><ul><li><label class='ee-shut'>0: List (5 elements)<input type='checkbox' class='ee-toggle'></label><ul><li><label class='ee-shut'>0: [-75.000001, -36.000004]<input type='checkbox' class='ee-toggle'></label><ul><li><span class='ee-k'>0:</span><span class='ee-v'>-75.000001</span></li><li><span class='ee-k'>1:</span><span class='ee-v'>-36.000004</span></li></ul></li><li><label class='ee-shut'>1: [-66.999999, -36]<input type='checkbox' class='ee-toggle'></label><ul><li><span class='ee-k'>0:</span><span class='ee-v'>-66.999999</span></li><li><span class='ee-k'>1:</span><span class='ee-v'>-36</span></li></ul></li><li><label class='ee-shut'>2: [-66.999999, -17]<input type='checkbox' class='ee-toggle'></label><ul><li><span class='ee-k'>0:</span><span class='ee-v'>-66.999999</span></li><li><span class='ee-k'>1:</span><span class='ee-v'>-17</span></li></ul></li><li><label class='ee-shut'>3: [-75.000026, -16.999993]<input type='checkbox' class='ee-toggle'></label><ul><li><span class='ee-k'>0:</span><span class='ee-v'>-75.000026</span></li><li><span class='ee-k'>1:</span><span class='ee-v'>-16.999993</span></li></ul></li><li><label class='ee-shut'>4: [-75.000001, -36.000004]<input type='checkbox' class='ee-toggle'></label><ul><li><span class='ee-k'>0:</span><span class='ee-v'>-75.000001</span></li><li><span class='ee-k'>1:</span><span class='ee-v'>-36.000004</span></li></ul></li></ul></li></ul></li></ul></li></ul></div><script>function toggleHeader() {\n",
       "    const parent = this.parentElement;\n",
       "    parent.className = parent.className === \"ee-open\" ? \"ee-shut\" : \"ee-open\";\n",
       "}\n",
       "\n",
       "for (let c of document.getElementsByClassName(\"ee-toggle\")) {\n",
       "    c.onclick = toggleHeader;\n",
       "}</script></div>"
      ],
      "text/plain": [
       "ee.Geometry({\n",
       "  \"functionInvocationValue\": {\n",
       "    \"functionName\": \"GeometryConstructors.Polygon\",\n",
       "    \"arguments\": {\n",
       "      \"coordinates\": {\n",
       "        \"constantValue\": [\n",
       "          [\n",
       "            [\n",
       "              -75.000001,\n",
       "              -36.000004\n",
       "            ],\n",
       "            [\n",
       "              -66.999999,\n",
       "              -36.0\n",
       "            ],\n",
       "            [\n",
       "              -66.999999,\n",
       "              -17.0\n",
       "            ],\n",
       "            [\n",
       "              -75.000026,\n",
       "              -16.999993\n",
       "            ],\n",
       "            [\n",
       "              -75.000001,\n",
       "              -36.000004\n",
       "            ]\n",
       "          ]\n",
       "        ]\n",
       "      },\n",
       "      \"evenOdd\": {\n",
       "        \"constantValue\": true\n",
       "      }\n",
       "    }\n",
       "  }\n",
       "})"
      ]
     },
     "execution_count": 38,
     "metadata": {},
     "output_type": "execute_result"
    }
   ],
   "source": [
    "region"
   ]
  },
  {
   "cell_type": "code",
   "execution_count": null,
   "id": "8f302d66-401f-47dd-884e-d9e7b265aa8f",
   "metadata": {},
   "outputs": [],
   "source": [
    "geometria_rounded = [(round(coord[0], 6), round(coord[1], 6)) for coord in geometria]\n",
    "geometria_rounded"
   ]
  },
  {
   "cell_type": "code",
   "execution_count": null,
   "id": "272f4f33-301f-4b73-97f1-c7912ea15c5b",
   "metadata": {},
   "outputs": [],
   "source": [
    "geometria\n"
   ]
  },
  {
   "cell_type": "code",
   "execution_count": null,
   "id": "ac2c45e3-dc23-4ade-9659-b0a26189691e",
   "metadata": {},
   "outputs": [],
   "source": [
    "def func_xmg(image):\n",
    "  NUM_BANDS = 33\n",
    "  bands = Array(NUM_BANDS)\n",
    "  for i in range(1, 17, 1):\n",
    "    bandName = 'CMI_C' + (100 + i + '').slice(-2)\n",
    "    offset = ee.Number(image.get(bandName + '_offset'))\n",
    "    scale =  ee.Number(image.get(bandName + '_scale'))\n",
    "    bands[(i-1) * 2] = image.select(bandName).multiply(scale).add(offset)\n",
    "    dqfName = 'DQF_C' + (100 + i + '').slice(-2)\n",
    "    bands[(i-1) * 2 + 1] = image.select(dqfName)\n",
    "\n",
    "  return ee.Image(ee.Image(bands).copyProperties(image, image.propertyNames())).toFloat()\n",
    "\n",
    "scaleOffset = unsigned16.map(func_xmg)\n"
   ]
  }
 ],
 "metadata": {
  "kernelspec": {
   "display_name": "Python 3 (ipykernel)",
   "language": "python",
   "name": "python3"
  },
  "language_info": {
   "codemirror_mode": {
    "name": "ipython",
    "version": 3
   },
   "file_extension": ".py",
   "mimetype": "text/x-python",
   "name": "python",
   "nbconvert_exporter": "python",
   "pygments_lexer": "ipython3",
   "version": "3.12.2"
  }
 },
 "nbformat": 4,
 "nbformat_minor": 5
}
